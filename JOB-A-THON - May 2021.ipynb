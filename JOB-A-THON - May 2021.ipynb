{
 "cells": [
  {
   "cell_type": "code",
   "execution_count": 59,
   "metadata": {
    "ExecuteTime": {
     "end_time": "2021-05-30T10:08:21.561030Z",
     "start_time": "2021-05-30T10:08:21.555036Z"
    }
   },
   "outputs": [],
   "source": [
    "import pandas as pd\n",
    "import numpy as np\n",
    "import matplotlib.pyplot as plt\n",
    "\n",
    "import sweetviz as sv\n",
    "from sklearn.impute import KNNImputer\n",
    "from sklearn.model_selection import train_test_split\n",
    "\n",
    "from sklearn import svm\n",
    "from xgboost.sklearn import XGBClassifier\n",
    "from sklearn.ensemble import RandomForestClassifier, ExtraTreesClassifier\n",
    "from sklearn.model_selection import RepeatedStratifiedKFold, GridSearchCV\n",
    "from lightgbm import LGBMClassifier\n",
    "\n",
    "from catboost import CatBoostClassifier,Pool, cv\n",
    "\n",
    "from sklearn.metrics import accuracy_score, precision_score, recall_score, f1_score\n",
    "from sklearn.metrics import roc_auc_score, confusion_matrix, cohen_kappa_score\n",
    "from sklearn.model_selection import KFold, StratifiedKFold"
   ]
  },
  {
   "cell_type": "code",
   "execution_count": 60,
   "metadata": {
    "ExecuteTime": {
     "end_time": "2021-05-30T10:08:22.257756Z",
     "start_time": "2021-05-30T10:08:21.809912Z"
    }
   },
   "outputs": [
    {
     "name": "stdout",
     "output_type": "stream",
     "text": [
      "(245725, 11)\n",
      "(105312, 10)\n"
     ]
    }
   ],
   "source": [
    "train = pd.read_csv('data/train.csv')\n",
    "test = pd.read_csv('data/test.csv')\n",
    "print(train.shape)\n",
    "print(test.shape)"
   ]
  },
  {
   "cell_type": "markdown",
   "metadata": {},
   "source": [
    "# EDA"
   ]
  },
  {
   "cell_type": "code",
   "execution_count": 61,
   "metadata": {
    "ExecuteTime": {
     "end_time": "2021-05-30T10:08:22.384464Z",
     "start_time": "2021-05-30T10:08:22.373447Z"
    },
    "scrolled": true
   },
   "outputs": [
    {
     "data": {
      "text/plain": [
       "ID                     object\n",
       "Gender                 object\n",
       "Age                     int64\n",
       "Region_Code            object\n",
       "Occupation             object\n",
       "Channel_Code           object\n",
       "Vintage                 int64\n",
       "Credit_Product         object\n",
       "Avg_Account_Balance     int64\n",
       "Is_Active              object\n",
       "Is_Lead                 int64\n",
       "dtype: object"
      ]
     },
     "execution_count": 61,
     "metadata": {},
     "output_type": "execute_result"
    }
   ],
   "source": [
    "train.dtypes"
   ]
  },
  {
   "cell_type": "markdown",
   "metadata": {},
   "source": [
    "#### Categorical Feature to Numerical"
   ]
  },
  {
   "cell_type": "code",
   "execution_count": 62,
   "metadata": {
    "ExecuteTime": {
     "end_time": "2021-05-30T10:08:22.820324Z",
     "start_time": "2021-05-30T10:08:22.814308Z"
    }
   },
   "outputs": [],
   "source": [
    "Yes_No_dict = {\n",
    "    \"Yes\":1,\n",
    "    \"No\":0\n",
    "}\n",
    "MF_dict = {\n",
    "    \"Male\":1,\n",
    "    \"Female\":0\n",
    "}\n",
    "Occupation_dict = {\n",
    "    \"Salaried\":0,\n",
    "    \"Other\":1,\n",
    "    \"Self_Employed\":2,\n",
    "    \"Entrepreneur\":3\n",
    "}\n",
    "Channel_Code_dict = {\n",
    "    \"X1\":0,\n",
    "    \"X4\":1,\n",
    "    \"X2\":2,\n",
    "    \"X3\":3\n",
    "}"
   ]
  },
  {
   "cell_type": "code",
   "execution_count": 63,
   "metadata": {
    "ExecuteTime": {
     "end_time": "2021-05-30T10:08:23.088560Z",
     "start_time": "2021-05-30T10:08:23.082608Z"
    }
   },
   "outputs": [],
   "source": [
    "def cat_2_num(data):\n",
    "    data['Gender'].replace(MF_dict, inplace=True)\n",
    "    data['Occupation'].replace(Occupation_dict, inplace=True)\n",
    "    data['Channel_Code'].replace(Channel_Code_dict, inplace=True)\n",
    "    data['Credit_Product'].replace(Yes_No_dict, inplace=True)\n",
    "    data['Is_Active'].replace(Yes_No_dict, inplace=True)\n",
    "    data['Region_Code'] = data['Region_Code'].astype('category').cat.codes\n",
    "    return data"
   ]
  },
  {
   "cell_type": "code",
   "execution_count": 64,
   "metadata": {
    "ExecuteTime": {
     "end_time": "2021-05-30T10:08:23.815662Z",
     "start_time": "2021-05-30T10:08:23.471584Z"
    }
   },
   "outputs": [
    {
     "data": {
      "text/html": [
       "<div>\n",
       "<style scoped>\n",
       "    .dataframe tbody tr th:only-of-type {\n",
       "        vertical-align: middle;\n",
       "    }\n",
       "\n",
       "    .dataframe tbody tr th {\n",
       "        vertical-align: top;\n",
       "    }\n",
       "\n",
       "    .dataframe thead th {\n",
       "        text-align: right;\n",
       "    }\n",
       "</style>\n",
       "<table border=\"1\" class=\"dataframe\">\n",
       "  <thead>\n",
       "    <tr style=\"text-align: right;\">\n",
       "      <th></th>\n",
       "      <th>ID</th>\n",
       "      <th>Gender</th>\n",
       "      <th>Age</th>\n",
       "      <th>Region_Code</th>\n",
       "      <th>Occupation</th>\n",
       "      <th>Channel_Code</th>\n",
       "      <th>Vintage</th>\n",
       "      <th>Credit_Product</th>\n",
       "      <th>Avg_Account_Balance</th>\n",
       "      <th>Is_Active</th>\n",
       "      <th>Is_Lead</th>\n",
       "    </tr>\n",
       "  </thead>\n",
       "  <tbody>\n",
       "    <tr>\n",
       "      <th>0</th>\n",
       "      <td>NNVBBKZB</td>\n",
       "      <td>0</td>\n",
       "      <td>73</td>\n",
       "      <td>18</td>\n",
       "      <td>1</td>\n",
       "      <td>3</td>\n",
       "      <td>43</td>\n",
       "      <td>0.0</td>\n",
       "      <td>1045696</td>\n",
       "      <td>0</td>\n",
       "      <td>0</td>\n",
       "    </tr>\n",
       "    <tr>\n",
       "      <th>1</th>\n",
       "      <td>IDD62UNG</td>\n",
       "      <td>0</td>\n",
       "      <td>30</td>\n",
       "      <td>27</td>\n",
       "      <td>0</td>\n",
       "      <td>0</td>\n",
       "      <td>32</td>\n",
       "      <td>0.0</td>\n",
       "      <td>581988</td>\n",
       "      <td>0</td>\n",
       "      <td>0</td>\n",
       "    </tr>\n",
       "    <tr>\n",
       "      <th>2</th>\n",
       "      <td>HD3DSEMC</td>\n",
       "      <td>0</td>\n",
       "      <td>56</td>\n",
       "      <td>18</td>\n",
       "      <td>2</td>\n",
       "      <td>3</td>\n",
       "      <td>26</td>\n",
       "      <td>0.0</td>\n",
       "      <td>1484315</td>\n",
       "      <td>1</td>\n",
       "      <td>0</td>\n",
       "    </tr>\n",
       "    <tr>\n",
       "      <th>3</th>\n",
       "      <td>BF3NC7KV</td>\n",
       "      <td>1</td>\n",
       "      <td>34</td>\n",
       "      <td>20</td>\n",
       "      <td>0</td>\n",
       "      <td>0</td>\n",
       "      <td>19</td>\n",
       "      <td>0.0</td>\n",
       "      <td>470454</td>\n",
       "      <td>0</td>\n",
       "      <td>0</td>\n",
       "    </tr>\n",
       "    <tr>\n",
       "      <th>4</th>\n",
       "      <td>TEASRWXV</td>\n",
       "      <td>0</td>\n",
       "      <td>30</td>\n",
       "      <td>32</td>\n",
       "      <td>0</td>\n",
       "      <td>0</td>\n",
       "      <td>33</td>\n",
       "      <td>0.0</td>\n",
       "      <td>886787</td>\n",
       "      <td>0</td>\n",
       "      <td>0</td>\n",
       "    </tr>\n",
       "  </tbody>\n",
       "</table>\n",
       "</div>"
      ],
      "text/plain": [
       "         ID  Gender  Age  Region_Code  Occupation  Channel_Code  Vintage  \\\n",
       "0  NNVBBKZB       0   73           18           1             3       43   \n",
       "1  IDD62UNG       0   30           27           0             0       32   \n",
       "2  HD3DSEMC       0   56           18           2             3       26   \n",
       "3  BF3NC7KV       1   34           20           0             0       19   \n",
       "4  TEASRWXV       0   30           32           0             0       33   \n",
       "\n",
       "   Credit_Product  Avg_Account_Balance  Is_Active  Is_Lead  \n",
       "0             0.0              1045696          0        0  \n",
       "1             0.0               581988          0        0  \n",
       "2             0.0              1484315          1        0  \n",
       "3             0.0               470454          0        0  \n",
       "4             0.0               886787          0        0  "
      ]
     },
     "execution_count": 64,
     "metadata": {},
     "output_type": "execute_result"
    }
   ],
   "source": [
    "train = cat_2_num(train)\n",
    "train.head()"
   ]
  },
  {
   "cell_type": "code",
   "execution_count": 65,
   "metadata": {
    "ExecuteTime": {
     "end_time": "2021-05-30T10:08:24.067777Z",
     "start_time": "2021-05-30T10:08:23.910637Z"
    }
   },
   "outputs": [],
   "source": [
    "test = cat_2_num(test)"
   ]
  },
  {
   "cell_type": "markdown",
   "metadata": {},
   "source": [
    "### Sweetviz reports for EDA"
   ]
  },
  {
   "cell_type": "code",
   "execution_count": 66,
   "metadata": {
    "ExecuteTime": {
     "end_time": "2021-05-30T10:08:24.226715Z",
     "start_time": "2021-05-30T10:08:24.209792Z"
    }
   },
   "outputs": [],
   "source": [
    "report=sv.analyze(train, target_feat=\"Is_Lead\")\n",
    "report.show_html('eda_report_train_2.html')"
   ]
  },
  {
   "cell_type": "code",
   "execution_count": 67,
   "metadata": {
    "ExecuteTime": {
     "end_time": "2021-05-30T10:08:24.585479Z",
     "start_time": "2021-05-30T10:08:24.566564Z"
    }
   },
   "outputs": [],
   "source": [
    "comparison_report = sv.compare([train, \"Training Data\"], [test, \"Test Data\"], \"Is_Lead\")\n",
    "comparison_report.show_html('comparison_report_2.html')"
   ]
  },
  {
   "cell_type": "code",
   "execution_count": null,
   "metadata": {},
   "outputs": [],
   "source": []
  },
  {
   "cell_type": "markdown",
   "metadata": {},
   "source": [
    "By EDA reports I have concluded following points - \n",
    "1. Credit_Product contains missing value. So we need to impute missing value in it.\n",
    "2. Important features -\n",
    "    i. Avg_Account_Balance\n",
    "    ii. Vintage\n",
    "    iii. Age\n",
    "    iv. Occupation\n",
    "    v. Credit_Product\n",
    "3. Target \"Is_Lead\" is imbalanced ratio almost {\"0\":4,\"1\":1}, so we can use SMOTE or other oversampling.\n",
    "4. Test dataset's feature distribution is almost same as train dataset."
   ]
  },
  {
   "cell_type": "markdown",
   "metadata": {},
   "source": [
    "## Missing Value imputation"
   ]
  },
  {
   "cell_type": "markdown",
   "metadata": {},
   "source": [
    "I have used following 4 techniques-\n",
    "1. Treat missing value as third category\n",
    "2. Filling it by mode\n",
    "3. Impute missing value with KNN\n",
    "4. Predict missing value by building Model for it.\n",
    "\n",
    "Out of these 3, first one works better."
   ]
  },
  {
   "cell_type": "markdown",
   "metadata": {},
   "source": [
    "#### Treate as third category"
   ]
  },
  {
   "cell_type": "code",
   "execution_count": 68,
   "metadata": {
    "ExecuteTime": {
     "end_time": "2021-05-30T10:08:25.648374Z",
     "start_time": "2021-05-30T10:08:25.626398Z"
    }
   },
   "outputs": [],
   "source": [
    "train['Credit_Product'] = train['Credit_Product'].fillna(3)\n",
    "test['Credit_Product'] = test['Credit_Product'].fillna(3)"
   ]
  },
  {
   "cell_type": "markdown",
   "metadata": {},
   "source": [
    "#### Mode Imputation"
   ]
  },
  {
   "cell_type": "code",
   "execution_count": 69,
   "metadata": {
    "ExecuteTime": {
     "end_time": "2021-05-30T10:08:26.303358Z",
     "start_time": "2021-05-30T10:08:26.294383Z"
    }
   },
   "outputs": [],
   "source": [
    "# train['Credit_Product'] = train['Credit_Product'].fillna(train['Credit_Product'].mode())\n",
    "# test['Credit_Product'] = test['Credit_Product'].fillna(train['Credit_Product'].mode())"
   ]
  },
  {
   "cell_type": "code",
   "execution_count": 70,
   "metadata": {
    "ExecuteTime": {
     "end_time": "2021-05-30T10:08:26.599903Z",
     "start_time": "2021-05-30T10:08:26.594891Z"
    }
   },
   "outputs": [],
   "source": [
    "# X = train.drop(['ID', 'Is_Lead'], axis=1)"
   ]
  },
  {
   "cell_type": "markdown",
   "metadata": {},
   "source": [
    "#### KNN Imputation"
   ]
  },
  {
   "cell_type": "code",
   "execution_count": 71,
   "metadata": {
    "ExecuteTime": {
     "end_time": "2021-05-30T10:08:27.370699Z",
     "start_time": "2021-05-30T10:08:27.362719Z"
    }
   },
   "outputs": [],
   "source": [
    "# imputer = KNNImputer(n_neighbors=7, weights='uniform', metric='nan_euclidean')"
   ]
  },
  {
   "cell_type": "code",
   "execution_count": 72,
   "metadata": {
    "ExecuteTime": {
     "end_time": "2021-05-30T10:08:28.349224Z",
     "start_time": "2021-05-30T10:08:28.338223Z"
    }
   },
   "outputs": [],
   "source": [
    "# X = imputer.fit_transform(train.drop(['ID', 'Is_Lead'], axis=1))"
   ]
  },
  {
   "cell_type": "code",
   "execution_count": 73,
   "metadata": {
    "ExecuteTime": {
     "end_time": "2021-05-30T10:08:28.569225Z",
     "start_time": "2021-05-30T10:08:28.552271Z"
    }
   },
   "outputs": [],
   "source": [
    "# X_test = imputer.transform(test.drop('ID', axis=1))"
   ]
  },
  {
   "cell_type": "code",
   "execution_count": 74,
   "metadata": {
    "ExecuteTime": {
     "end_time": "2021-05-30T10:08:28.756324Z",
     "start_time": "2021-05-30T10:08:28.752335Z"
    }
   },
   "outputs": [],
   "source": [
    "# X_test_final = X_test.copy()"
   ]
  },
  {
   "cell_type": "code",
   "execution_count": 75,
   "metadata": {
    "ExecuteTime": {
     "end_time": "2021-05-30T10:08:28.961371Z",
     "start_time": "2021-05-30T10:08:28.944374Z"
    }
   },
   "outputs": [],
   "source": [
    "# import pickle\n",
    "# with open('imputer2.pkl','ab') as f:\n",
    "#     pickle.dump(imputer, f)"
   ]
  },
  {
   "cell_type": "code",
   "execution_count": 76,
   "metadata": {
    "ExecuteTime": {
     "end_time": "2021-05-30T10:08:29.116013Z",
     "start_time": "2021-05-30T10:08:29.103047Z"
    }
   },
   "outputs": [],
   "source": [
    "# import pickle\n",
    "# with open('imputer2.pkl','rb') as f:\n",
    "#     loaded_imp = pickle.load(f)"
   ]
  },
  {
   "cell_type": "code",
   "execution_count": 77,
   "metadata": {
    "ExecuteTime": {
     "end_time": "2021-05-30T10:08:29.399257Z",
     "start_time": "2021-05-30T10:08:29.387287Z"
    }
   },
   "outputs": [],
   "source": [
    "# train.shape"
   ]
  },
  {
   "cell_type": "code",
   "execution_count": 78,
   "metadata": {
    "ExecuteTime": {
     "end_time": "2021-05-30T10:08:29.617671Z",
     "start_time": "2021-05-30T10:08:29.604705Z"
    }
   },
   "outputs": [],
   "source": [
    "# X = loaded_imp.transform(train.drop(['ID', 'Is_Lead'], axis=1))\n",
    "# X.shape"
   ]
  },
  {
   "cell_type": "code",
   "execution_count": 79,
   "metadata": {
    "ExecuteTime": {
     "end_time": "2021-05-30T10:08:29.804170Z",
     "start_time": "2021-05-30T10:08:29.759292Z"
    }
   },
   "outputs": [
    {
     "data": {
      "text/plain": [
       "ID                     0\n",
       "Gender                 0\n",
       "Age                    0\n",
       "Region_Code            0\n",
       "Occupation             0\n",
       "Channel_Code           0\n",
       "Vintage                0\n",
       "Credit_Product         0\n",
       "Avg_Account_Balance    0\n",
       "Is_Active              0\n",
       "Is_Lead                0\n",
       "dtype: int64"
      ]
     },
     "execution_count": 79,
     "metadata": {},
     "output_type": "execute_result"
    }
   ],
   "source": [
    "train.isna().sum()"
   ]
  },
  {
   "cell_type": "markdown",
   "metadata": {},
   "source": [
    "# Feature Engineering and Selection"
   ]
  },
  {
   "cell_type": "code",
   "execution_count": 80,
   "metadata": {
    "ExecuteTime": {
     "end_time": "2021-05-30T10:08:30.759070Z",
     "start_time": "2021-05-30T10:08:30.739081Z"
    }
   },
   "outputs": [
    {
     "data": {
      "text/html": [
       "<div>\n",
       "<style scoped>\n",
       "    .dataframe tbody tr th:only-of-type {\n",
       "        vertical-align: middle;\n",
       "    }\n",
       "\n",
       "    .dataframe tbody tr th {\n",
       "        vertical-align: top;\n",
       "    }\n",
       "\n",
       "    .dataframe thead th {\n",
       "        text-align: right;\n",
       "    }\n",
       "</style>\n",
       "<table border=\"1\" class=\"dataframe\">\n",
       "  <thead>\n",
       "    <tr style=\"text-align: right;\">\n",
       "      <th></th>\n",
       "      <th>ID</th>\n",
       "      <th>Gender</th>\n",
       "      <th>Age</th>\n",
       "      <th>Region_Code</th>\n",
       "      <th>Occupation</th>\n",
       "      <th>Channel_Code</th>\n",
       "      <th>Vintage</th>\n",
       "      <th>Credit_Product</th>\n",
       "      <th>Avg_Account_Balance</th>\n",
       "      <th>Is_Active</th>\n",
       "      <th>Is_Lead</th>\n",
       "    </tr>\n",
       "  </thead>\n",
       "  <tbody>\n",
       "    <tr>\n",
       "      <th>0</th>\n",
       "      <td>NNVBBKZB</td>\n",
       "      <td>0</td>\n",
       "      <td>73</td>\n",
       "      <td>18</td>\n",
       "      <td>1</td>\n",
       "      <td>3</td>\n",
       "      <td>43</td>\n",
       "      <td>0.0</td>\n",
       "      <td>1045696</td>\n",
       "      <td>0</td>\n",
       "      <td>0</td>\n",
       "    </tr>\n",
       "    <tr>\n",
       "      <th>1</th>\n",
       "      <td>IDD62UNG</td>\n",
       "      <td>0</td>\n",
       "      <td>30</td>\n",
       "      <td>27</td>\n",
       "      <td>0</td>\n",
       "      <td>0</td>\n",
       "      <td>32</td>\n",
       "      <td>0.0</td>\n",
       "      <td>581988</td>\n",
       "      <td>0</td>\n",
       "      <td>0</td>\n",
       "    </tr>\n",
       "  </tbody>\n",
       "</table>\n",
       "</div>"
      ],
      "text/plain": [
       "         ID  Gender  Age  Region_Code  Occupation  Channel_Code  Vintage  \\\n",
       "0  NNVBBKZB       0   73           18           1             3       43   \n",
       "1  IDD62UNG       0   30           27           0             0       32   \n",
       "\n",
       "   Credit_Product  Avg_Account_Balance  Is_Active  Is_Lead  \n",
       "0             0.0              1045696          0        0  \n",
       "1             0.0               581988          0        0  "
      ]
     },
     "execution_count": 80,
     "metadata": {},
     "output_type": "execute_result"
    }
   ],
   "source": [
    "train.head(2)"
   ]
  },
  {
   "cell_type": "markdown",
   "metadata": {},
   "source": [
    "#### "
   ]
  },
  {
   "cell_type": "markdown",
   "metadata": {},
   "source": [
    "Dividing \"Avg_Account_Balance\" in 3 category based on the 50%, 75% data distribution."
   ]
  },
  {
   "cell_type": "code",
   "execution_count": 128,
   "metadata": {
    "ExecuteTime": {
     "end_time": "2021-05-30T17:03:45.446946Z",
     "start_time": "2021-05-30T17:03:45.387922Z"
    }
   },
   "outputs": [
    {
     "data": {
      "text/plain": [
       "count    2.457250e+05\n",
       "mean     1.128403e+06\n",
       "std      8.529364e+05\n",
       "min      2.079000e+04\n",
       "25%      6.043100e+05\n",
       "50%      8.946010e+05\n",
       "75%      1.366666e+06\n",
       "max      1.035201e+07\n",
       "Name: Avg_Account_Balance, dtype: float64"
      ]
     },
     "execution_count": 128,
     "metadata": {},
     "output_type": "execute_result"
    }
   ],
   "source": [
    "train['Avg_Account_Balance'].describe()"
   ]
  },
  {
   "cell_type": "code",
   "execution_count": 82,
   "metadata": {
    "ExecuteTime": {
     "end_time": "2021-05-30T10:08:31.871872Z",
     "start_time": "2021-05-30T10:08:31.740066Z"
    }
   },
   "outputs": [],
   "source": [
    "def new_cat(x):\n",
    "    if x<=894601:\n",
    "        return 1\n",
    "    elif x<1366666:\n",
    "        return 2\n",
    "    else:\n",
    "        return 3\n",
    "train['Richness'] = train['Avg_Account_Balance'].map(new_cat)\n",
    "test['Richness'] = test['Avg_Account_Balance'].map(new_cat)"
   ]
  },
  {
   "cell_type": "markdown",
   "metadata": {},
   "source": [
    "Creating new features"
   ]
  },
  {
   "cell_type": "code",
   "execution_count": 83,
   "metadata": {
    "ExecuteTime": {
     "end_time": "2021-05-30T10:08:32.368151Z",
     "start_time": "2021-05-30T10:08:32.356178Z"
    }
   },
   "outputs": [],
   "source": [
    "train['Richness + Occupation'] = train['Richness']*10 + train['Occupation']\n",
    "test['Richness + Occupation'] = test['Richness']*10 + test['Occupation']"
   ]
  },
  {
   "cell_type": "code",
   "execution_count": 85,
   "metadata": {
    "ExecuteTime": {
     "end_time": "2021-05-30T10:08:33.835170Z",
     "start_time": "2021-05-30T10:08:33.811202Z"
    }
   },
   "outputs": [],
   "source": [
    "train['Age + Occupation'] = train['Age']*10 + train['Occupation']\n",
    "test['Age + Occupation'] = test['Age']*10 + test['Occupation']"
   ]
  },
  {
   "cell_type": "code",
   "execution_count": 86,
   "metadata": {
    "ExecuteTime": {
     "end_time": "2021-05-30T10:08:34.412675Z",
     "start_time": "2021-05-30T10:08:34.393725Z"
    }
   },
   "outputs": [],
   "source": [
    "train['Credit_Product + Occupation'] = train['Credit_Product']*10 + train['Occupation']\n",
    "test['Credit_Product + Occupation'] = test['Credit_Product']*10 + test['Occupation']"
   ]
  },
  {
   "cell_type": "markdown",
   "metadata": {},
   "source": [
    "### Dealing with imbalance dataset"
   ]
  },
  {
   "cell_type": "markdown",
   "metadata": {},
   "source": [
    "#### Without SMOTE"
   ]
  },
  {
   "cell_type": "code",
   "execution_count": 87,
   "metadata": {
    "ExecuteTime": {
     "end_time": "2021-05-30T10:11:11.776096Z",
     "start_time": "2021-05-30T10:11:11.721242Z"
    }
   },
   "outputs": [],
   "source": [
    "X = train.drop(['Is_Lead','ID'], axis=1)\n",
    "y = train['Is_Lead']"
   ]
  },
  {
   "cell_type": "markdown",
   "metadata": {},
   "source": [
    "#### SMOTE"
   ]
  },
  {
   "cell_type": "code",
   "execution_count": 92,
   "metadata": {
    "ExecuteTime": {
     "end_time": "2021-05-30T10:13:08.547668Z",
     "start_time": "2021-05-30T10:13:08.542711Z"
    },
    "scrolled": true
   },
   "outputs": [],
   "source": [
    "from imblearn.over_sampling import SVMSMOTE"
   ]
  },
  {
   "cell_type": "code",
   "execution_count": 93,
   "metadata": {
    "ExecuteTime": {
     "end_time": "2021-05-30T10:13:09.449312Z",
     "start_time": "2021-05-30T10:13:09.433323Z"
    }
   },
   "outputs": [
    {
     "data": {
      "text/plain": [
       "(245725, 15)"
      ]
     },
     "execution_count": 93,
     "metadata": {},
     "output_type": "execute_result"
    }
   ],
   "source": [
    "train.shape"
   ]
  },
  {
   "cell_type": "code",
   "execution_count": 94,
   "metadata": {
    "ExecuteTime": {
     "end_time": "2021-05-30T10:13:09.885902Z",
     "start_time": "2021-05-30T10:13:09.866954Z"
    }
   },
   "outputs": [
    {
     "data": {
      "text/plain": [
       "(245725, 15)"
      ]
     },
     "execution_count": 94,
     "metadata": {},
     "output_type": "execute_result"
    }
   ],
   "source": [
    "train.shape"
   ]
  },
  {
   "cell_type": "code",
   "execution_count": 95,
   "metadata": {
    "ExecuteTime": {
     "end_time": "2021-05-30T10:37:13.978916Z",
     "start_time": "2021-05-30T10:13:10.634016Z"
    }
   },
   "outputs": [],
   "source": [
    "oversample = SVMSMOTE()\n",
    "X, y = oversample.fit_resample(train.drop(['Is_Lead','ID'],axis=1), train['Is_Lead'])"
   ]
  },
  {
   "cell_type": "markdown",
   "metadata": {},
   "source": [
    "For testing model"
   ]
  },
  {
   "cell_type": "code",
   "execution_count": 96,
   "metadata": {
    "ExecuteTime": {
     "end_time": "2021-05-30T10:37:14.168540Z",
     "start_time": "2021-05-30T10:37:14.090735Z"
    }
   },
   "outputs": [],
   "source": [
    "X_train, X_test, y_train, y_test = train_test_split(\n",
    "    X, y, test_size=0.33, random_state=42\n",
    ")\n"
   ]
  },
  {
   "cell_type": "markdown",
   "metadata": {},
   "source": [
    "# Modeling"
   ]
  },
  {
   "cell_type": "markdown",
   "metadata": {},
   "source": [
    "Metrics"
   ]
  },
  {
   "cell_type": "code",
   "execution_count": 123,
   "metadata": {
    "ExecuteTime": {
     "end_time": "2021-05-30T16:10:27.612002Z",
     "start_time": "2021-05-30T16:10:27.596968Z"
    },
    "code_folding": [
     0
    ]
   },
   "outputs": [],
   "source": [
    "def metric(y_true, y_pred):\n",
    "    # accuracy: (tp + tn) / (p + n)\n",
    "    accuracy = accuracy_score(y_true,  y_pred)\n",
    "    print('Accuracy: %f' % accuracy)\n",
    "\n",
    "    # precision tp / (tp + fp)\n",
    "    precision = precision_score(y_true, y_pred)\n",
    "    print('Precision: %f' % precision)\n",
    "\n",
    "    # recall: tp / (tp + fn)\n",
    "    recall = recall_score(y_true, y_pred)\n",
    "    print('Recall: %f' % recall)\n",
    "\n",
    "    # f1: 2 tp / (2 tp + fp + fn)\n",
    "    f1 = f1_score(y_true, y_pred)\n",
    "    print('F1 score: %f' % f1)\n",
    "    \n",
    "    # kappa\n",
    "    kappa = cohen_kappa_score(y_true, y_pred)\n",
    "    print('Cohens kappa: %f' % kappa)\n",
    "    # ROC AUC\n",
    "    auc = roc_auc_score(y_true, y_pred)\n",
    "    print('ROC AUC: %f' % auc)\n",
    "\n",
    "    print(confusion_matrix(y_true, y_pred))"
   ]
  },
  {
   "cell_type": "code",
   "execution_count": 124,
   "metadata": {
    "ExecuteTime": {
     "end_time": "2021-05-30T16:10:27.720814Z",
     "start_time": "2021-05-30T16:10:27.706130Z"
    },
    "code_folding": []
   },
   "outputs": [],
   "source": [
    "def metric2(y_true, y_pred):\n",
    "    auc_score = roc_auc_score(y_test, pred)\n",
    "    print(f\"roc_auc_score: {auc_score}\")\n",
    "    print(\"-\"*50)"
   ]
  },
  {
   "cell_type": "markdown",
   "metadata": {},
   "source": [
    "#### Final Submission"
   ]
  },
  {
   "cell_type": "code",
   "execution_count": 112,
   "metadata": {
    "ExecuteTime": {
     "end_time": "2021-05-30T10:47:55.816681Z",
     "start_time": "2021-05-30T10:47:55.796698Z"
    }
   },
   "outputs": [],
   "source": [
    "def cross_val(X, y, model, params, folds=7):\n",
    "    skf = StratifiedKFold(n_splits=folds, shuffle=True, random_state=21)\n",
    "    for fold, (train_idx, test_idx) in enumerate(skf.split(X, y)):\n",
    "        print(f\"Fold: {fold}\")\n",
    "        x_train, y_train = X.iloc[train_idx], y.iloc[train_idx]\n",
    "        x_test, y_test = X.iloc[test_idx], y.iloc[test_idx]\n",
    "        alg = model(**params)\n",
    "        alg.fit(x_train, y_train,\n",
    "                eval_set=[(x_test, y_test)],\n",
    "                early_stopping_rounds=100,\n",
    "                verbose=400)\n",
    "        pred = alg.predict_proba(x_test)[:, 1]\n",
    "        metric2(y_test, pred)\n",
    "    return alg"
   ]
  },
  {
   "cell_type": "markdown",
   "metadata": {},
   "source": [
    "LGBMClassifier"
   ]
  },
  {
   "cell_type": "code",
   "execution_count": 113,
   "metadata": {
    "ExecuteTime": {
     "end_time": "2021-05-30T10:48:00.606553Z",
     "start_time": "2021-05-30T10:48:00.597552Z"
    }
   },
   "outputs": [],
   "source": [
    "lgb_params= {'learning_rate': 0.045, \n",
    "             'n_estimators': 20000, \n",
    "             'max_bin': 94,\n",
    "             'num_leaves': 10, \n",
    "             'max_depth': 27, \n",
    "             'reg_alpha': 8.457, \n",
    "             'reg_lambda': 6.853, \n",
    "             'subsample': 0.749}"
   ]
  },
  {
   "cell_type": "code",
   "execution_count": 114,
   "metadata": {
    "ExecuteTime": {
     "end_time": "2021-05-30T10:55:34.870005Z",
     "start_time": "2021-05-30T10:48:02.232061Z"
    },
    "scrolled": true
   },
   "outputs": [
    {
     "name": "stdout",
     "output_type": "stream",
     "text": [
      "Fold: 0\n",
      "Training until validation scores don't improve for 100 rounds\n",
      "[400]\tvalid_0's binary_logloss: 0.252142\n",
      "[800]\tvalid_0's binary_logloss: 0.242673\n",
      "[1200]\tvalid_0's binary_logloss: 0.239003\n",
      "[1600]\tvalid_0's binary_logloss: 0.237225\n",
      "[2000]\tvalid_0's binary_logloss: 0.235909\n",
      "[2400]\tvalid_0's binary_logloss: 0.235164\n",
      "[2800]\tvalid_0's binary_logloss: 0.234536\n",
      "[3200]\tvalid_0's binary_logloss: 0.234139\n",
      "[3600]\tvalid_0's binary_logloss: 0.233867\n",
      "[4000]\tvalid_0's binary_logloss: 0.233473\n",
      "[4400]\tvalid_0's binary_logloss: 0.233195\n",
      "[4800]\tvalid_0's binary_logloss: 0.233049\n",
      "[5200]\tvalid_0's binary_logloss: 0.232925\n",
      "[5600]\tvalid_0's binary_logloss: 0.232847\n",
      "Early stopping, best iteration is:\n",
      "[5860]\tvalid_0's binary_logloss: 0.232775\n",
      "roc_auc_score: 0.959466574986592\n",
      "--------------------------------------------------\n",
      "Fold: 1\n",
      "Training until validation scores don't improve for 100 rounds\n",
      "[400]\tvalid_0's binary_logloss: 0.254657\n",
      "[800]\tvalid_0's binary_logloss: 0.245141\n",
      "[1200]\tvalid_0's binary_logloss: 0.241553\n",
      "[1600]\tvalid_0's binary_logloss: 0.239698\n",
      "[2000]\tvalid_0's binary_logloss: 0.238658\n",
      "[2400]\tvalid_0's binary_logloss: 0.23795\n",
      "[2800]\tvalid_0's binary_logloss: 0.23737\n",
      "[3200]\tvalid_0's binary_logloss: 0.23682\n",
      "[3600]\tvalid_0's binary_logloss: 0.236551\n",
      "[4000]\tvalid_0's binary_logloss: 0.236306\n",
      "[4400]\tvalid_0's binary_logloss: 0.236148\n",
      "Early stopping, best iteration is:\n",
      "[4607]\tvalid_0's binary_logloss: 0.236045\n",
      "roc_auc_score: 0.9586340257233648\n",
      "--------------------------------------------------\n",
      "Fold: 2\n",
      "Training until validation scores don't improve for 100 rounds\n",
      "[400]\tvalid_0's binary_logloss: 0.254133\n",
      "[800]\tvalid_0's binary_logloss: 0.244031\n",
      "[1200]\tvalid_0's binary_logloss: 0.240129\n",
      "[1600]\tvalid_0's binary_logloss: 0.237926\n",
      "[2000]\tvalid_0's binary_logloss: 0.236735\n",
      "[2400]\tvalid_0's binary_logloss: 0.23601\n",
      "[2800]\tvalid_0's binary_logloss: 0.235425\n",
      "[3200]\tvalid_0's binary_logloss: 0.234751\n",
      "[3600]\tvalid_0's binary_logloss: 0.234356\n",
      "[4000]\tvalid_0's binary_logloss: 0.233957\n",
      "[4400]\tvalid_0's binary_logloss: 0.233743\n",
      "[4800]\tvalid_0's binary_logloss: 0.233528\n",
      "[5200]\tvalid_0's binary_logloss: 0.233403\n",
      "[5600]\tvalid_0's binary_logloss: 0.233263\n",
      "Early stopping, best iteration is:\n",
      "[5884]\tvalid_0's binary_logloss: 0.233195\n",
      "roc_auc_score: 0.9591350930579179\n",
      "--------------------------------------------------\n",
      "Fold: 3\n",
      "Training until validation scores don't improve for 100 rounds\n",
      "[400]\tvalid_0's binary_logloss: 0.25435\n",
      "[800]\tvalid_0's binary_logloss: 0.245331\n",
      "[1200]\tvalid_0's binary_logloss: 0.241893\n",
      "[1600]\tvalid_0's binary_logloss: 0.240091\n",
      "[2000]\tvalid_0's binary_logloss: 0.238918\n",
      "[2400]\tvalid_0's binary_logloss: 0.238187\n",
      "[2800]\tvalid_0's binary_logloss: 0.237667\n",
      "[3200]\tvalid_0's binary_logloss: 0.237249\n",
      "[3600]\tvalid_0's binary_logloss: 0.236955\n",
      "[4000]\tvalid_0's binary_logloss: 0.236675\n",
      "[4400]\tvalid_0's binary_logloss: 0.236495\n",
      "[4800]\tvalid_0's binary_logloss: 0.236327\n",
      "[5200]\tvalid_0's binary_logloss: 0.236192\n",
      "Early stopping, best iteration is:\n",
      "[5364]\tvalid_0's binary_logloss: 0.236143\n",
      "roc_auc_score: 0.9585519956003818\n",
      "--------------------------------------------------\n",
      "Fold: 4\n",
      "Training until validation scores don't improve for 100 rounds\n",
      "[400]\tvalid_0's binary_logloss: 0.255373\n",
      "[800]\tvalid_0's binary_logloss: 0.245424\n",
      "[1200]\tvalid_0's binary_logloss: 0.241481\n",
      "[1600]\tvalid_0's binary_logloss: 0.239296\n",
      "[2000]\tvalid_0's binary_logloss: 0.23793\n",
      "[2400]\tvalid_0's binary_logloss: 0.237084\n",
      "[2800]\tvalid_0's binary_logloss: 0.236512\n",
      "[3200]\tvalid_0's binary_logloss: 0.235951\n",
      "[3600]\tvalid_0's binary_logloss: 0.235712\n",
      "[4000]\tvalid_0's binary_logloss: 0.235462\n",
      "Early stopping, best iteration is:\n",
      "[4162]\tvalid_0's binary_logloss: 0.235362\n",
      "roc_auc_score: 0.9592078849936384\n",
      "--------------------------------------------------\n",
      "Fold: 5\n",
      "Training until validation scores don't improve for 100 rounds\n",
      "[400]\tvalid_0's binary_logloss: 0.256082\n",
      "[800]\tvalid_0's binary_logloss: 0.245661\n",
      "[1200]\tvalid_0's binary_logloss: 0.241437\n",
      "[1600]\tvalid_0's binary_logloss: 0.239356\n",
      "[2000]\tvalid_0's binary_logloss: 0.238137\n",
      "[2400]\tvalid_0's binary_logloss: 0.237373\n",
      "[2800]\tvalid_0's binary_logloss: 0.23677\n",
      "[3200]\tvalid_0's binary_logloss: 0.236347\n",
      "[3600]\tvalid_0's binary_logloss: 0.236101\n",
      "[4000]\tvalid_0's binary_logloss: 0.235804\n",
      "[4400]\tvalid_0's binary_logloss: 0.235641\n",
      "[4800]\tvalid_0's binary_logloss: 0.235439\n",
      "Early stopping, best iteration is:\n",
      "[4953]\tvalid_0's binary_logloss: 0.235354\n",
      "roc_auc_score: 0.9588001125145271\n",
      "--------------------------------------------------\n",
      "Fold: 6\n",
      "Training until validation scores don't improve for 100 rounds\n",
      "[400]\tvalid_0's binary_logloss: 0.249635\n",
      "[800]\tvalid_0's binary_logloss: 0.239562\n",
      "[1200]\tvalid_0's binary_logloss: 0.235908\n",
      "[1600]\tvalid_0's binary_logloss: 0.233859\n",
      "[2000]\tvalid_0's binary_logloss: 0.232489\n",
      "[2400]\tvalid_0's binary_logloss: 0.231615\n",
      "[2800]\tvalid_0's binary_logloss: 0.230976\n",
      "[3200]\tvalid_0's binary_logloss: 0.230484\n",
      "[3600]\tvalid_0's binary_logloss: 0.230126\n",
      "[4000]\tvalid_0's binary_logloss: 0.229778\n",
      "[4400]\tvalid_0's binary_logloss: 0.22969\n",
      "[4800]\tvalid_0's binary_logloss: 0.229485\n",
      "[5200]\tvalid_0's binary_logloss: 0.229319\n",
      "[5600]\tvalid_0's binary_logloss: 0.229211\n",
      "[6000]\tvalid_0's binary_logloss: 0.229148\n",
      "Early stopping, best iteration is:\n",
      "[5945]\tvalid_0's binary_logloss: 0.22914\n",
      "roc_auc_score: 0.9608601415252188\n",
      "--------------------------------------------------\n",
      "Fold: 7\n",
      "Training until validation scores don't improve for 100 rounds\n",
      "[400]\tvalid_0's binary_logloss: 0.253903\n",
      "[800]\tvalid_0's binary_logloss: 0.244156\n",
      "[1200]\tvalid_0's binary_logloss: 0.240856\n",
      "[1600]\tvalid_0's binary_logloss: 0.238854\n",
      "[2000]\tvalid_0's binary_logloss: 0.237714\n",
      "[2400]\tvalid_0's binary_logloss: 0.236757\n",
      "[2800]\tvalid_0's binary_logloss: 0.236298\n",
      "[3200]\tvalid_0's binary_logloss: 0.235897\n",
      "[3600]\tvalid_0's binary_logloss: 0.235617\n",
      "[4000]\tvalid_0's binary_logloss: 0.235221\n",
      "[4400]\tvalid_0's binary_logloss: 0.234928\n",
      "[4800]\tvalid_0's binary_logloss: 0.234826\n",
      "Early stopping, best iteration is:\n",
      "[4939]\tvalid_0's binary_logloss: 0.234767\n",
      "roc_auc_score: 0.9588250385368724\n",
      "--------------------------------------------------\n",
      "Fold: 8\n",
      "Training until validation scores don't improve for 100 rounds\n",
      "[400]\tvalid_0's binary_logloss: 0.255844\n",
      "[800]\tvalid_0's binary_logloss: 0.246772\n",
      "[1200]\tvalid_0's binary_logloss: 0.242777\n",
      "[1600]\tvalid_0's binary_logloss: 0.240782\n",
      "[2000]\tvalid_0's binary_logloss: 0.239633\n",
      "[2400]\tvalid_0's binary_logloss: 0.238716\n",
      "[2800]\tvalid_0's binary_logloss: 0.238218\n",
      "[3200]\tvalid_0's binary_logloss: 0.23786\n",
      "[3600]\tvalid_0's binary_logloss: 0.237533\n",
      "[4000]\tvalid_0's binary_logloss: 0.237337\n",
      "[4400]\tvalid_0's binary_logloss: 0.237175\n",
      "Early stopping, best iteration is:\n",
      "[4473]\tvalid_0's binary_logloss: 0.237134\n",
      "roc_auc_score: 0.957865501701831\n",
      "--------------------------------------------------\n"
     ]
    }
   ],
   "source": [
    "lgb_model = cross_val(X, y, LGBMClassifier, lgb_params)"
   ]
  },
  {
   "cell_type": "code",
   "execution_count": 115,
   "metadata": {
    "ExecuteTime": {
     "end_time": "2021-05-30T10:55:34.980874Z",
     "start_time": "2021-05-30T10:55:34.965814Z"
    },
    "code_folding": []
   },
   "outputs": [],
   "source": [
    "xgb_params= {'n_estimators': 20000, \n",
    "             'max_depth': 6, \n",
    "             'learning_rate': 0.0201, \n",
    "             'reg_lambda': 29.326, \n",
    "             'subsample': 0.818, \n",
    "             'colsample_bytree': 0.235, \n",
    "             'colsample_bynode': 0.820, \n",
    "             'colsample_bylevel': 0.453}"
   ]
  },
  {
   "cell_type": "code",
   "execution_count": 116,
   "metadata": {
    "ExecuteTime": {
     "end_time": "2021-05-30T10:55:35.089601Z",
     "start_time": "2021-05-30T10:55:35.074523Z"
    }
   },
   "outputs": [],
   "source": [
    "# from xgboost import XGBClassifier"
   ]
  },
  {
   "cell_type": "code",
   "execution_count": 117,
   "metadata": {
    "ExecuteTime": {
     "end_time": "2021-05-30T14:44:04.025087Z",
     "start_time": "2021-05-30T10:55:35.181330Z"
    },
    "scrolled": true
   },
   "outputs": [
    {
     "name": "stdout",
     "output_type": "stream",
     "text": [
      "Fold: 0\n"
     ]
    },
    {
     "name": "stderr",
     "output_type": "stream",
     "text": [
      "C:\\Users\\ujjwa\\anaconda3\\envs\\env_cv\\lib\\site-packages\\xgboost\\sklearn.py:1146: UserWarning: The use of label encoder in XGBClassifier is deprecated and will be removed in a future release. To remove this warning, do the following: 1) Pass option use_label_encoder=False when constructing XGBClassifier object; and 2) Encode your labels (y) as integers starting with 0, i.e. 0, 1, 2, ..., [num_class - 1].\n",
      "  warnings.warn(label_encoder_deprecation_msg, UserWarning)\n"
     ]
    },
    {
     "name": "stdout",
     "output_type": "stream",
     "text": [
      "[16:25:35] WARNING: C:/Users/Administrator/workspace/xgboost-win64_release_1.4.0/src/learner.cc:1095: Starting in XGBoost 1.3.0, the default evaluation metric used with the objective 'binary:logistic' was changed from 'error' to 'logloss'. Explicitly set eval_metric if you'd like to restore the old behavior.\n",
      "[0]\tvalidation_0-logloss:0.68535\n",
      "[400]\tvalidation_0-logloss:0.30168\n",
      "[800]\tvalidation_0-logloss:0.27548\n",
      "[1200]\tvalidation_0-logloss:0.26569\n",
      "[1600]\tvalidation_0-logloss:0.25867\n",
      "[2000]\tvalidation_0-logloss:0.25477\n",
      "[2400]\tvalidation_0-logloss:0.25225\n",
      "[2800]\tvalidation_0-logloss:0.25026\n",
      "[3200]\tvalidation_0-logloss:0.24874\n",
      "[3600]\tvalidation_0-logloss:0.24727\n",
      "[4000]\tvalidation_0-logloss:0.24592\n",
      "[4400]\tvalidation_0-logloss:0.24496\n",
      "[4800]\tvalidation_0-logloss:0.24410\n",
      "[5200]\tvalidation_0-logloss:0.24330\n",
      "[5600]\tvalidation_0-logloss:0.24253\n",
      "[6000]\tvalidation_0-logloss:0.24183\n",
      "[6400]\tvalidation_0-logloss:0.24124\n",
      "[6800]\tvalidation_0-logloss:0.24075\n",
      "[7200]\tvalidation_0-logloss:0.24029\n",
      "[7600]\tvalidation_0-logloss:0.23995\n",
      "[8000]\tvalidation_0-logloss:0.23961\n",
      "[8400]\tvalidation_0-logloss:0.23927\n",
      "[8800]\tvalidation_0-logloss:0.23898\n",
      "[9200]\tvalidation_0-logloss:0.23869\n",
      "[9600]\tvalidation_0-logloss:0.23841\n",
      "[10000]\tvalidation_0-logloss:0.23817\n",
      "[10400]\tvalidation_0-logloss:0.23793\n",
      "[10800]\tvalidation_0-logloss:0.23775\n",
      "[11200]\tvalidation_0-logloss:0.23758\n",
      "[11600]\tvalidation_0-logloss:0.23739\n",
      "[12000]\tvalidation_0-logloss:0.23722\n",
      "[12400]\tvalidation_0-logloss:0.23704\n",
      "[12800]\tvalidation_0-logloss:0.23687\n",
      "[13200]\tvalidation_0-logloss:0.23670\n",
      "[13600]\tvalidation_0-logloss:0.23657\n",
      "[14000]\tvalidation_0-logloss:0.23647\n",
      "[14400]\tvalidation_0-logloss:0.23638\n",
      "[14800]\tvalidation_0-logloss:0.23625\n",
      "[15200]\tvalidation_0-logloss:0.23615\n",
      "[15600]\tvalidation_0-logloss:0.23608\n",
      "[16000]\tvalidation_0-logloss:0.23601\n",
      "[16400]\tvalidation_0-logloss:0.23592\n",
      "[16800]\tvalidation_0-logloss:0.23582\n",
      "[17200]\tvalidation_0-logloss:0.23576\n",
      "[17600]\tvalidation_0-logloss:0.23572\n",
      "[17646]\tvalidation_0-logloss:0.23571\n",
      "roc_auc_score: 0.9589489944211262\n",
      "--------------------------------------------------\n",
      "Fold: 1\n"
     ]
    },
    {
     "name": "stderr",
     "output_type": "stream",
     "text": [
      "C:\\Users\\ujjwa\\anaconda3\\envs\\env_cv\\lib\\site-packages\\xgboost\\sklearn.py:1146: UserWarning: The use of label encoder in XGBClassifier is deprecated and will be removed in a future release. To remove this warning, do the following: 1) Pass option use_label_encoder=False when constructing XGBClassifier object; and 2) Encode your labels (y) as integers starting with 0, i.e. 0, 1, 2, ..., [num_class - 1].\n",
      "  warnings.warn(label_encoder_deprecation_msg, UserWarning)\n"
     ]
    },
    {
     "name": "stdout",
     "output_type": "stream",
     "text": [
      "[16:51:41] WARNING: C:/Users/Administrator/workspace/xgboost-win64_release_1.4.0/src/learner.cc:1095: Starting in XGBoost 1.3.0, the default evaluation metric used with the objective 'binary:logistic' was changed from 'error' to 'logloss'. Explicitly set eval_metric if you'd like to restore the old behavior.\n",
      "[0]\tvalidation_0-logloss:0.68544\n",
      "[400]\tvalidation_0-logloss:0.30432\n",
      "[800]\tvalidation_0-logloss:0.27863\n",
      "[1200]\tvalidation_0-logloss:0.26948\n",
      "[1600]\tvalidation_0-logloss:0.26206\n",
      "[2000]\tvalidation_0-logloss:0.25792\n",
      "[2400]\tvalidation_0-logloss:0.25526\n",
      "[2800]\tvalidation_0-logloss:0.25323\n",
      "[3200]\tvalidation_0-logloss:0.25167\n",
      "[3600]\tvalidation_0-logloss:0.25024\n",
      "[4000]\tvalidation_0-logloss:0.24894\n",
      "[4400]\tvalidation_0-logloss:0.24793\n",
      "[4800]\tvalidation_0-logloss:0.24707\n",
      "[5200]\tvalidation_0-logloss:0.24619\n",
      "[5600]\tvalidation_0-logloss:0.24551\n",
      "[6000]\tvalidation_0-logloss:0.24488\n",
      "[6400]\tvalidation_0-logloss:0.24432\n",
      "[6800]\tvalidation_0-logloss:0.24391\n",
      "[7200]\tvalidation_0-logloss:0.24340\n",
      "[7600]\tvalidation_0-logloss:0.24308\n",
      "[8000]\tvalidation_0-logloss:0.24270\n",
      "[8400]\tvalidation_0-logloss:0.24233\n",
      "[8800]\tvalidation_0-logloss:0.24203\n",
      "[9200]\tvalidation_0-logloss:0.24174\n",
      "[9600]\tvalidation_0-logloss:0.24148\n",
      "[10000]\tvalidation_0-logloss:0.24123\n",
      "[10400]\tvalidation_0-logloss:0.24099\n",
      "[10800]\tvalidation_0-logloss:0.24078\n",
      "[11200]\tvalidation_0-logloss:0.24062\n",
      "[11600]\tvalidation_0-logloss:0.24044\n",
      "[12000]\tvalidation_0-logloss:0.24024\n",
      "[12400]\tvalidation_0-logloss:0.24008\n",
      "[12800]\tvalidation_0-logloss:0.23989\n",
      "[13200]\tvalidation_0-logloss:0.23974\n",
      "[13600]\tvalidation_0-logloss:0.23955\n",
      "[14000]\tvalidation_0-logloss:0.23940\n",
      "[14400]\tvalidation_0-logloss:0.23928\n",
      "[14800]\tvalidation_0-logloss:0.23911\n",
      "[15200]\tvalidation_0-logloss:0.23897\n",
      "[15600]\tvalidation_0-logloss:0.23890\n",
      "[16000]\tvalidation_0-logloss:0.23881\n",
      "[16400]\tvalidation_0-logloss:0.23871\n",
      "[16800]\tvalidation_0-logloss:0.23864\n",
      "[17200]\tvalidation_0-logloss:0.23853\n",
      "[17600]\tvalidation_0-logloss:0.23846\n",
      "[18000]\tvalidation_0-logloss:0.23840\n",
      "[18400]\tvalidation_0-logloss:0.23831\n",
      "[18800]\tvalidation_0-logloss:0.23826\n",
      "[19200]\tvalidation_0-logloss:0.23817\n",
      "[19600]\tvalidation_0-logloss:0.23810\n",
      "[19999]\tvalidation_0-logloss:0.23801\n",
      "roc_auc_score: 0.9580559911705524\n",
      "--------------------------------------------------\n",
      "Fold: 2\n"
     ]
    },
    {
     "name": "stderr",
     "output_type": "stream",
     "text": [
      "C:\\Users\\ujjwa\\anaconda3\\envs\\env_cv\\lib\\site-packages\\xgboost\\sklearn.py:1146: UserWarning: The use of label encoder in XGBClassifier is deprecated and will be removed in a future release. To remove this warning, do the following: 1) Pass option use_label_encoder=False when constructing XGBClassifier object; and 2) Encode your labels (y) as integers starting with 0, i.e. 0, 1, 2, ..., [num_class - 1].\n",
      "  warnings.warn(label_encoder_deprecation_msg, UserWarning)\n"
     ]
    },
    {
     "name": "stdout",
     "output_type": "stream",
     "text": [
      "[17:21:44] WARNING: C:/Users/Administrator/workspace/xgboost-win64_release_1.4.0/src/learner.cc:1095: Starting in XGBoost 1.3.0, the default evaluation metric used with the objective 'binary:logistic' was changed from 'error' to 'logloss'. Explicitly set eval_metric if you'd like to restore the old behavior.\n",
      "[0]\tvalidation_0-logloss:0.68539\n",
      "[400]\tvalidation_0-logloss:0.30237\n",
      "[800]\tvalidation_0-logloss:0.27655\n",
      "[1200]\tvalidation_0-logloss:0.26695\n",
      "[1600]\tvalidation_0-logloss:0.25927\n",
      "[2000]\tvalidation_0-logloss:0.25556\n",
      "[2400]\tvalidation_0-logloss:0.25288\n",
      "[2800]\tvalidation_0-logloss:0.25089\n",
      "[3200]\tvalidation_0-logloss:0.24923\n",
      "[3600]\tvalidation_0-logloss:0.24780\n",
      "[4000]\tvalidation_0-logloss:0.24648\n",
      "[4400]\tvalidation_0-logloss:0.24547\n",
      "[4800]\tvalidation_0-logloss:0.24468\n",
      "[5200]\tvalidation_0-logloss:0.24388\n",
      "[5600]\tvalidation_0-logloss:0.24317\n",
      "[6000]\tvalidation_0-logloss:0.24257\n",
      "[6400]\tvalidation_0-logloss:0.24202\n",
      "[6800]\tvalidation_0-logloss:0.24158\n",
      "[7200]\tvalidation_0-logloss:0.24111\n",
      "[7600]\tvalidation_0-logloss:0.24077\n",
      "[8000]\tvalidation_0-logloss:0.24044\n",
      "[8400]\tvalidation_0-logloss:0.24005\n",
      "[8800]\tvalidation_0-logloss:0.23972\n",
      "[9200]\tvalidation_0-logloss:0.23939\n",
      "[9600]\tvalidation_0-logloss:0.23911\n",
      "[10000]\tvalidation_0-logloss:0.23892\n",
      "[10400]\tvalidation_0-logloss:0.23863\n",
      "[10800]\tvalidation_0-logloss:0.23843\n",
      "[11200]\tvalidation_0-logloss:0.23825\n",
      "[11600]\tvalidation_0-logloss:0.23803\n",
      "[12000]\tvalidation_0-logloss:0.23786\n",
      "[12400]\tvalidation_0-logloss:0.23766\n",
      "[12800]\tvalidation_0-logloss:0.23751\n",
      "[13200]\tvalidation_0-logloss:0.23738\n",
      "[13600]\tvalidation_0-logloss:0.23723\n",
      "[14000]\tvalidation_0-logloss:0.23712\n",
      "[14400]\tvalidation_0-logloss:0.23699\n",
      "[14800]\tvalidation_0-logloss:0.23685\n",
      "[15200]\tvalidation_0-logloss:0.23673\n",
      "[15600]\tvalidation_0-logloss:0.23663\n",
      "[16000]\tvalidation_0-logloss:0.23654\n",
      "[16400]\tvalidation_0-logloss:0.23643\n",
      "[16800]\tvalidation_0-logloss:0.23634\n",
      "[17200]\tvalidation_0-logloss:0.23625\n",
      "[17600]\tvalidation_0-logloss:0.23618\n",
      "[18000]\tvalidation_0-logloss:0.23613\n",
      "[18400]\tvalidation_0-logloss:0.23604\n",
      "[18800]\tvalidation_0-logloss:0.23599\n",
      "[19200]\tvalidation_0-logloss:0.23589\n",
      "[19600]\tvalidation_0-logloss:0.23581\n",
      "[19999]\tvalidation_0-logloss:0.23576\n",
      "roc_auc_score: 0.9587358336824915\n",
      "--------------------------------------------------\n",
      "Fold: 3\n"
     ]
    },
    {
     "name": "stderr",
     "output_type": "stream",
     "text": [
      "C:\\Users\\ujjwa\\anaconda3\\envs\\env_cv\\lib\\site-packages\\xgboost\\sklearn.py:1146: UserWarning: The use of label encoder in XGBClassifier is deprecated and will be removed in a future release. To remove this warning, do the following: 1) Pass option use_label_encoder=False when constructing XGBClassifier object; and 2) Encode your labels (y) as integers starting with 0, i.e. 0, 1, 2, ..., [num_class - 1].\n",
      "  warnings.warn(label_encoder_deprecation_msg, UserWarning)\n"
     ]
    },
    {
     "name": "stdout",
     "output_type": "stream",
     "text": [
      "[17:50:43] WARNING: C:/Users/Administrator/workspace/xgboost-win64_release_1.4.0/src/learner.cc:1095: Starting in XGBoost 1.3.0, the default evaluation metric used with the objective 'binary:logistic' was changed from 'error' to 'logloss'. Explicitly set eval_metric if you'd like to restore the old behavior.\n",
      "[0]\tvalidation_0-logloss:0.68532\n",
      "[400]\tvalidation_0-logloss:0.30259\n",
      "[800]\tvalidation_0-logloss:0.27715\n",
      "[1200]\tvalidation_0-logloss:0.26830\n",
      "[1600]\tvalidation_0-logloss:0.26106\n",
      "[2000]\tvalidation_0-logloss:0.25733\n",
      "[2400]\tvalidation_0-logloss:0.25470\n",
      "[2800]\tvalidation_0-logloss:0.25272\n",
      "[3200]\tvalidation_0-logloss:0.25116\n",
      "[3600]\tvalidation_0-logloss:0.24981\n",
      "[4000]\tvalidation_0-logloss:0.24853\n",
      "[4400]\tvalidation_0-logloss:0.24755\n",
      "[4800]\tvalidation_0-logloss:0.24682\n",
      "[5200]\tvalidation_0-logloss:0.24604\n",
      "[5600]\tvalidation_0-logloss:0.24530\n",
      "[6000]\tvalidation_0-logloss:0.24474\n",
      "[6400]\tvalidation_0-logloss:0.24415\n",
      "[6800]\tvalidation_0-logloss:0.24376\n",
      "[7200]\tvalidation_0-logloss:0.24319\n",
      "[7600]\tvalidation_0-logloss:0.24289\n",
      "[8000]\tvalidation_0-logloss:0.24253\n",
      "[8400]\tvalidation_0-logloss:0.24224\n",
      "[8800]\tvalidation_0-logloss:0.24194\n",
      "[9200]\tvalidation_0-logloss:0.24171\n",
      "[9600]\tvalidation_0-logloss:0.24143\n",
      "[10000]\tvalidation_0-logloss:0.24119\n",
      "[10400]\tvalidation_0-logloss:0.24095\n",
      "[10800]\tvalidation_0-logloss:0.24077\n",
      "[11200]\tvalidation_0-logloss:0.24063\n",
      "[11600]\tvalidation_0-logloss:0.24045\n",
      "[12000]\tvalidation_0-logloss:0.24027\n",
      "[12400]\tvalidation_0-logloss:0.24012\n",
      "[12800]\tvalidation_0-logloss:0.23996\n",
      "[13200]\tvalidation_0-logloss:0.23983\n",
      "[13600]\tvalidation_0-logloss:0.23967\n",
      "[14000]\tvalidation_0-logloss:0.23956\n",
      "[14400]\tvalidation_0-logloss:0.23946\n",
      "[14800]\tvalidation_0-logloss:0.23933\n",
      "[15200]\tvalidation_0-logloss:0.23921\n",
      "[15482]\tvalidation_0-logloss:0.23917\n",
      "roc_auc_score: 0.9580632235622275\n",
      "--------------------------------------------------\n",
      "Fold: 4\n"
     ]
    },
    {
     "name": "stderr",
     "output_type": "stream",
     "text": [
      "C:\\Users\\ujjwa\\anaconda3\\envs\\env_cv\\lib\\site-packages\\xgboost\\sklearn.py:1146: UserWarning: The use of label encoder in XGBClassifier is deprecated and will be removed in a future release. To remove this warning, do the following: 1) Pass option use_label_encoder=False when constructing XGBClassifier object; and 2) Encode your labels (y) as integers starting with 0, i.e. 0, 1, 2, ..., [num_class - 1].\n",
      "  warnings.warn(label_encoder_deprecation_msg, UserWarning)\n"
     ]
    },
    {
     "name": "stdout",
     "output_type": "stream",
     "text": [
      "[18:12:03] WARNING: C:/Users/Administrator/workspace/xgboost-win64_release_1.4.0/src/learner.cc:1095: Starting in XGBoost 1.3.0, the default evaluation metric used with the objective 'binary:logistic' was changed from 'error' to 'logloss'. Explicitly set eval_metric if you'd like to restore the old behavior.\n",
      "[0]\tvalidation_0-logloss:0.68545\n",
      "[400]\tvalidation_0-logloss:0.30500\n",
      "[800]\tvalidation_0-logloss:0.27852\n",
      "[1200]\tvalidation_0-logloss:0.26893\n",
      "[1600]\tvalidation_0-logloss:0.26147\n",
      "[2000]\tvalidation_0-logloss:0.25734\n",
      "[2400]\tvalidation_0-logloss:0.25454\n",
      "[2800]\tvalidation_0-logloss:0.25256\n",
      "[3200]\tvalidation_0-logloss:0.25098\n",
      "[3600]\tvalidation_0-logloss:0.24945\n",
      "[4000]\tvalidation_0-logloss:0.24818\n",
      "[4400]\tvalidation_0-logloss:0.24714\n",
      "[4800]\tvalidation_0-logloss:0.24631\n",
      "[5200]\tvalidation_0-logloss:0.24555\n",
      "[5600]\tvalidation_0-logloss:0.24482\n",
      "[6000]\tvalidation_0-logloss:0.24417\n",
      "[6400]\tvalidation_0-logloss:0.24351\n",
      "[6800]\tvalidation_0-logloss:0.24305\n",
      "[7200]\tvalidation_0-logloss:0.24251\n",
      "[7600]\tvalidation_0-logloss:0.24217\n",
      "[8000]\tvalidation_0-logloss:0.24181\n",
      "[8400]\tvalidation_0-logloss:0.24139\n",
      "[8800]\tvalidation_0-logloss:0.24109\n",
      "[9200]\tvalidation_0-logloss:0.24080\n",
      "[9600]\tvalidation_0-logloss:0.24052\n",
      "[10000]\tvalidation_0-logloss:0.24028\n",
      "[10400]\tvalidation_0-logloss:0.24004\n",
      "[10800]\tvalidation_0-logloss:0.23981\n",
      "[11200]\tvalidation_0-logloss:0.23965\n",
      "[11600]\tvalidation_0-logloss:0.23944\n",
      "[12000]\tvalidation_0-logloss:0.23924\n",
      "[12400]\tvalidation_0-logloss:0.23906\n",
      "[12800]\tvalidation_0-logloss:0.23889\n",
      "[13200]\tvalidation_0-logloss:0.23873\n",
      "[13600]\tvalidation_0-logloss:0.23859\n",
      "[14000]\tvalidation_0-logloss:0.23845\n",
      "[14400]\tvalidation_0-logloss:0.23832\n",
      "[14800]\tvalidation_0-logloss:0.23821\n",
      "[15200]\tvalidation_0-logloss:0.23809\n",
      "[15600]\tvalidation_0-logloss:0.23803\n",
      "[16000]\tvalidation_0-logloss:0.23793\n",
      "[16400]\tvalidation_0-logloss:0.23782\n",
      "[16800]\tvalidation_0-logloss:0.23772\n",
      "[17200]\tvalidation_0-logloss:0.23762\n",
      "[17600]\tvalidation_0-logloss:0.23754\n",
      "[18000]\tvalidation_0-logloss:0.23748\n",
      "[18400]\tvalidation_0-logloss:0.23739\n",
      "[18800]\tvalidation_0-logloss:0.23732\n",
      "[19200]\tvalidation_0-logloss:0.23721\n",
      "[19600]\tvalidation_0-logloss:0.23711\n",
      "[19999]\tvalidation_0-logloss:0.23703\n",
      "roc_auc_score: 0.9590618907410313\n",
      "--------------------------------------------------\n",
      "Fold: 5\n"
     ]
    },
    {
     "name": "stderr",
     "output_type": "stream",
     "text": [
      "C:\\Users\\ujjwa\\anaconda3\\envs\\env_cv\\lib\\site-packages\\xgboost\\sklearn.py:1146: UserWarning: The use of label encoder in XGBClassifier is deprecated and will be removed in a future release. To remove this warning, do the following: 1) Pass option use_label_encoder=False when constructing XGBClassifier object; and 2) Encode your labels (y) as integers starting with 0, i.e. 0, 1, 2, ..., [num_class - 1].\n",
      "  warnings.warn(label_encoder_deprecation_msg, UserWarning)\n"
     ]
    },
    {
     "name": "stdout",
     "output_type": "stream",
     "text": [
      "[18:40:12] WARNING: C:/Users/Administrator/workspace/xgboost-win64_release_1.4.0/src/learner.cc:1095: Starting in XGBoost 1.3.0, the default evaluation metric used with the objective 'binary:logistic' was changed from 'error' to 'logloss'. Explicitly set eval_metric if you'd like to restore the old behavior.\n",
      "[0]\tvalidation_0-logloss:0.68534\n",
      "[400]\tvalidation_0-logloss:0.30402\n",
      "[800]\tvalidation_0-logloss:0.27804\n",
      "[1200]\tvalidation_0-logloss:0.26821\n",
      "[1600]\tvalidation_0-logloss:0.26100\n",
      "[2000]\tvalidation_0-logloss:0.25718\n",
      "[2400]\tvalidation_0-logloss:0.25436\n",
      "[2800]\tvalidation_0-logloss:0.25244\n",
      "[3200]\tvalidation_0-logloss:0.25082\n",
      "[3600]\tvalidation_0-logloss:0.24943\n",
      "[4000]\tvalidation_0-logloss:0.24823\n",
      "[4400]\tvalidation_0-logloss:0.24716\n",
      "[4800]\tvalidation_0-logloss:0.24642\n",
      "[5200]\tvalidation_0-logloss:0.24559\n",
      "[5600]\tvalidation_0-logloss:0.24489\n",
      "[6000]\tvalidation_0-logloss:0.24429\n",
      "[6400]\tvalidation_0-logloss:0.24368\n",
      "[6800]\tvalidation_0-logloss:0.24325\n",
      "[7200]\tvalidation_0-logloss:0.24276\n",
      "[7600]\tvalidation_0-logloss:0.24240\n",
      "[8000]\tvalidation_0-logloss:0.24204\n",
      "[8400]\tvalidation_0-logloss:0.24168\n",
      "[8800]\tvalidation_0-logloss:0.24139\n",
      "[9200]\tvalidation_0-logloss:0.24106\n",
      "[9600]\tvalidation_0-logloss:0.24076\n",
      "[10000]\tvalidation_0-logloss:0.24054\n",
      "[10400]\tvalidation_0-logloss:0.24025\n",
      "[10800]\tvalidation_0-logloss:0.24003\n",
      "[11200]\tvalidation_0-logloss:0.23987\n",
      "[11600]\tvalidation_0-logloss:0.23968\n",
      "[12000]\tvalidation_0-logloss:0.23948\n",
      "[12400]\tvalidation_0-logloss:0.23929\n",
      "[12800]\tvalidation_0-logloss:0.23910\n",
      "[13200]\tvalidation_0-logloss:0.23898\n",
      "[13600]\tvalidation_0-logloss:0.23882\n",
      "[14000]\tvalidation_0-logloss:0.23866\n",
      "[14400]\tvalidation_0-logloss:0.23857\n",
      "[14800]\tvalidation_0-logloss:0.23843\n",
      "[15200]\tvalidation_0-logloss:0.23834\n",
      "[15600]\tvalidation_0-logloss:0.23825\n",
      "[15806]\tvalidation_0-logloss:0.23823\n",
      "roc_auc_score: 0.9584202217468349\n",
      "--------------------------------------------------\n",
      "Fold: 6\n"
     ]
    },
    {
     "name": "stderr",
     "output_type": "stream",
     "text": [
      "C:\\Users\\ujjwa\\anaconda3\\envs\\env_cv\\lib\\site-packages\\xgboost\\sklearn.py:1146: UserWarning: The use of label encoder in XGBClassifier is deprecated and will be removed in a future release. To remove this warning, do the following: 1) Pass option use_label_encoder=False when constructing XGBClassifier object; and 2) Encode your labels (y) as integers starting with 0, i.e. 0, 1, 2, ..., [num_class - 1].\n",
      "  warnings.warn(label_encoder_deprecation_msg, UserWarning)\n"
     ]
    },
    {
     "name": "stdout",
     "output_type": "stream",
     "text": [
      "[19:02:00] WARNING: C:/Users/Administrator/workspace/xgboost-win64_release_1.4.0/src/learner.cc:1095: Starting in XGBoost 1.3.0, the default evaluation metric used with the objective 'binary:logistic' was changed from 'error' to 'logloss'. Explicitly set eval_metric if you'd like to restore the old behavior.\n",
      "[0]\tvalidation_0-logloss:0.68537\n",
      "[400]\tvalidation_0-logloss:0.29447\n",
      "[800]\tvalidation_0-logloss:0.27109\n",
      "[1200]\tvalidation_0-logloss:0.26164\n",
      "[1600]\tvalidation_0-logloss:0.25554\n",
      "[2000]\tvalidation_0-logloss:0.25170\n",
      "[2400]\tvalidation_0-logloss:0.24874\n",
      "[2800]\tvalidation_0-logloss:0.24659\n",
      "[3200]\tvalidation_0-logloss:0.24492\n",
      "[3600]\tvalidation_0-logloss:0.24331\n",
      "[4000]\tvalidation_0-logloss:0.24214\n",
      "[4400]\tvalidation_0-logloss:0.24121\n",
      "[4800]\tvalidation_0-logloss:0.24033\n",
      "[5200]\tvalidation_0-logloss:0.23956\n",
      "[5600]\tvalidation_0-logloss:0.23885\n",
      "[6000]\tvalidation_0-logloss:0.23829\n",
      "[6400]\tvalidation_0-logloss:0.23776\n",
      "[6800]\tvalidation_0-logloss:0.23730\n",
      "[7200]\tvalidation_0-logloss:0.23679\n",
      "[7600]\tvalidation_0-logloss:0.23647\n",
      "[8000]\tvalidation_0-logloss:0.23604\n",
      "[8400]\tvalidation_0-logloss:0.23563\n",
      "[8800]\tvalidation_0-logloss:0.23530\n",
      "[9200]\tvalidation_0-logloss:0.23502\n",
      "[9600]\tvalidation_0-logloss:0.23477\n",
      "[10000]\tvalidation_0-logloss:0.23445\n",
      "[10400]\tvalidation_0-logloss:0.23426\n",
      "[10800]\tvalidation_0-logloss:0.23404\n",
      "[11200]\tvalidation_0-logloss:0.23382\n",
      "[11600]\tvalidation_0-logloss:0.23361\n",
      "[12000]\tvalidation_0-logloss:0.23345\n",
      "[12400]\tvalidation_0-logloss:0.23328\n",
      "[12800]\tvalidation_0-logloss:0.23311\n",
      "[13200]\tvalidation_0-logloss:0.23292\n",
      "[13600]\tvalidation_0-logloss:0.23280\n",
      "[14000]\tvalidation_0-logloss:0.23269\n",
      "[14400]\tvalidation_0-logloss:0.23255\n",
      "[14800]\tvalidation_0-logloss:0.23243\n",
      "[15200]\tvalidation_0-logloss:0.23232\n",
      "[15600]\tvalidation_0-logloss:0.23220\n",
      "[16000]\tvalidation_0-logloss:0.23212\n",
      "[16400]\tvalidation_0-logloss:0.23203\n",
      "[16800]\tvalidation_0-logloss:0.23194\n",
      "[17200]\tvalidation_0-logloss:0.23186\n",
      "[17600]\tvalidation_0-logloss:0.23180\n",
      "[18000]\tvalidation_0-logloss:0.23171\n",
      "[18400]\tvalidation_0-logloss:0.23161\n",
      "[18800]\tvalidation_0-logloss:0.23153\n",
      "[19200]\tvalidation_0-logloss:0.23145\n",
      "[19600]\tvalidation_0-logloss:0.23138\n",
      "[19999]\tvalidation_0-logloss:0.23133\n",
      "roc_auc_score: 0.9604097715285437\n",
      "--------------------------------------------------\n",
      "Fold: 7\n"
     ]
    },
    {
     "name": "stderr",
     "output_type": "stream",
     "text": [
      "C:\\Users\\ujjwa\\anaconda3\\envs\\env_cv\\lib\\site-packages\\xgboost\\sklearn.py:1146: UserWarning: The use of label encoder in XGBClassifier is deprecated and will be removed in a future release. To remove this warning, do the following: 1) Pass option use_label_encoder=False when constructing XGBClassifier object; and 2) Encode your labels (y) as integers starting with 0, i.e. 0, 1, 2, ..., [num_class - 1].\n",
      "  warnings.warn(label_encoder_deprecation_msg, UserWarning)\n"
     ]
    },
    {
     "name": "stdout",
     "output_type": "stream",
     "text": [
      "[19:29:39] WARNING: C:/Users/Administrator/workspace/xgboost-win64_release_1.4.0/src/learner.cc:1095: Starting in XGBoost 1.3.0, the default evaluation metric used with the objective 'binary:logistic' was changed from 'error' to 'logloss'. Explicitly set eval_metric if you'd like to restore the old behavior.\n",
      "[0]\tvalidation_0-logloss:0.68542\n",
      "[400]\tvalidation_0-logloss:0.29795\n",
      "[800]\tvalidation_0-logloss:0.27549\n",
      "[1200]\tvalidation_0-logloss:0.26648\n",
      "[1600]\tvalidation_0-logloss:0.26030\n",
      "[2000]\tvalidation_0-logloss:0.25621\n",
      "[2400]\tvalidation_0-logloss:0.25353\n",
      "[2800]\tvalidation_0-logloss:0.25122\n",
      "[3200]\tvalidation_0-logloss:0.24957\n",
      "[3600]\tvalidation_0-logloss:0.24791\n",
      "[4000]\tvalidation_0-logloss:0.24674\n",
      "[4400]\tvalidation_0-logloss:0.24576\n",
      "[4800]\tvalidation_0-logloss:0.24500\n",
      "[5200]\tvalidation_0-logloss:0.24430\n",
      "[5600]\tvalidation_0-logloss:0.24361\n",
      "[6000]\tvalidation_0-logloss:0.24310\n",
      "[6400]\tvalidation_0-logloss:0.24264\n",
      "[6800]\tvalidation_0-logloss:0.24219\n",
      "[7200]\tvalidation_0-logloss:0.24175\n",
      "[7600]\tvalidation_0-logloss:0.24147\n",
      "[8000]\tvalidation_0-logloss:0.24113\n",
      "[8400]\tvalidation_0-logloss:0.24080\n",
      "[8800]\tvalidation_0-logloss:0.24057\n",
      "[9200]\tvalidation_0-logloss:0.24035\n",
      "[9600]\tvalidation_0-logloss:0.24016\n",
      "[10000]\tvalidation_0-logloss:0.23988\n",
      "[10400]\tvalidation_0-logloss:0.23972\n",
      "[10800]\tvalidation_0-logloss:0.23953\n",
      "[11200]\tvalidation_0-logloss:0.23933\n",
      "[11600]\tvalidation_0-logloss:0.23913\n",
      "[12000]\tvalidation_0-logloss:0.23896\n",
      "[12400]\tvalidation_0-logloss:0.23881\n",
      "[12800]\tvalidation_0-logloss:0.23866\n",
      "[13200]\tvalidation_0-logloss:0.23851\n",
      "[13600]\tvalidation_0-logloss:0.23842\n",
      "[14000]\tvalidation_0-logloss:0.23829\n",
      "[14400]\tvalidation_0-logloss:0.23815\n",
      "[14800]\tvalidation_0-logloss:0.23805\n",
      "[15200]\tvalidation_0-logloss:0.23794\n",
      "[15600]\tvalidation_0-logloss:0.23783\n",
      "[16000]\tvalidation_0-logloss:0.23776\n",
      "[16087]\tvalidation_0-logloss:0.23775\n",
      "roc_auc_score: 0.9584348383803094\n",
      "--------------------------------------------------\n",
      "Fold: 8\n"
     ]
    },
    {
     "name": "stderr",
     "output_type": "stream",
     "text": [
      "C:\\Users\\ujjwa\\anaconda3\\envs\\env_cv\\lib\\site-packages\\xgboost\\sklearn.py:1146: UserWarning: The use of label encoder in XGBClassifier is deprecated and will be removed in a future release. To remove this warning, do the following: 1) Pass option use_label_encoder=False when constructing XGBClassifier object; and 2) Encode your labels (y) as integers starting with 0, i.e. 0, 1, 2, ..., [num_class - 1].\n",
      "  warnings.warn(label_encoder_deprecation_msg, UserWarning)\n"
     ]
    },
    {
     "name": "stdout",
     "output_type": "stream",
     "text": [
      "[19:52:10] WARNING: C:/Users/Administrator/workspace/xgboost-win64_release_1.4.0/src/learner.cc:1095: Starting in XGBoost 1.3.0, the default evaluation metric used with the objective 'binary:logistic' was changed from 'error' to 'logloss'. Explicitly set eval_metric if you'd like to restore the old behavior.\n",
      "[0]\tvalidation_0-logloss:0.68537\n",
      "[400]\tvalidation_0-logloss:0.29854\n",
      "[800]\tvalidation_0-logloss:0.27632\n",
      "[1200]\tvalidation_0-logloss:0.26760\n",
      "[1600]\tvalidation_0-logloss:0.26193\n",
      "[2000]\tvalidation_0-logloss:0.25800\n",
      "[2400]\tvalidation_0-logloss:0.25505\n",
      "[2800]\tvalidation_0-logloss:0.25284\n",
      "[3200]\tvalidation_0-logloss:0.25129\n",
      "[3600]\tvalidation_0-logloss:0.24960\n",
      "[4000]\tvalidation_0-logloss:0.24856\n",
      "[4400]\tvalidation_0-logloss:0.24766\n",
      "[4800]\tvalidation_0-logloss:0.24687\n",
      "[5200]\tvalidation_0-logloss:0.24617\n",
      "[5600]\tvalidation_0-logloss:0.24545\n",
      "[6000]\tvalidation_0-logloss:0.24493\n",
      "[6400]\tvalidation_0-logloss:0.24443\n",
      "[6800]\tvalidation_0-logloss:0.24404\n",
      "[7200]\tvalidation_0-logloss:0.24351\n",
      "[7600]\tvalidation_0-logloss:0.24323\n",
      "[8000]\tvalidation_0-logloss:0.24288\n",
      "[8400]\tvalidation_0-logloss:0.24252\n",
      "[8800]\tvalidation_0-logloss:0.24221\n",
      "[9200]\tvalidation_0-logloss:0.24198\n",
      "[9600]\tvalidation_0-logloss:0.24177\n",
      "[10000]\tvalidation_0-logloss:0.24151\n",
      "[10400]\tvalidation_0-logloss:0.24137\n",
      "[10800]\tvalidation_0-logloss:0.24115\n",
      "[11200]\tvalidation_0-logloss:0.24097\n",
      "[11600]\tvalidation_0-logloss:0.24078\n",
      "[12000]\tvalidation_0-logloss:0.24063\n",
      "[12400]\tvalidation_0-logloss:0.24047\n",
      "[12800]\tvalidation_0-logloss:0.24030\n",
      "[13200]\tvalidation_0-logloss:0.24016\n",
      "[13600]\tvalidation_0-logloss:0.24004\n",
      "[14000]\tvalidation_0-logloss:0.23989\n",
      "[14400]\tvalidation_0-logloss:0.23976\n",
      "[14800]\tvalidation_0-logloss:0.23967\n",
      "[15200]\tvalidation_0-logloss:0.23958\n",
      "[15600]\tvalidation_0-logloss:0.23946\n",
      "[15911]\tvalidation_0-logloss:0.23941\n",
      "roc_auc_score: 0.957378572596073\n",
      "--------------------------------------------------\n"
     ]
    }
   ],
   "source": [
    "xgb_model = cross_val(X, y, XGBClassifier, xgb_params)"
   ]
  },
  {
   "cell_type": "code",
   "execution_count": 118,
   "metadata": {
    "ExecuteTime": {
     "end_time": "2021-05-30T14:44:04.150989Z",
     "start_time": "2021-05-30T14:44:04.136958Z"
    }
   },
   "outputs": [],
   "source": [
    "cat_params= {'n_estimators': 20000, \n",
    "                  'depth': 4, \n",
    "                  'learning_rate': 0.023, \n",
    "                  'colsample_bylevel': 0.655, \n",
    "                  'bagging\n",
    "             \n",
    "             _temperature': 0.921, \n",
    "                  'l2_leaf_reg': 10.133}\n",
    "\n"
   ]
  },
  {
   "cell_type": "code",
   "execution_count": 119,
   "metadata": {
    "ExecuteTime": {
     "end_time": "2021-05-30T16:10:16.669059Z",
     "start_time": "2021-05-30T14:44:04.263071Z"
    }
   },
   "outputs": [
    {
     "name": "stdout",
     "output_type": "stream",
     "text": [
      "Fold: 0\n",
      "0:\tlearn: 0.6695025\ttest: 0.6693945\tbest: 0.6693945 (0)\ttotal: 56ms\tremaining: 18m 39s\n",
      "400:\tlearn: 0.2696708\ttest: 0.2685920\tbest: 0.2685920 (400)\ttotal: 19.4s\tremaining: 15m 49s\n",
      "800:\tlearn: 0.2548027\ttest: 0.2536650\tbest: 0.2536650 (800)\ttotal: 38.5s\tremaining: 15m 22s\n",
      "1200:\tlearn: 0.2484555\ttest: 0.2478100\tbest: 0.2478100 (1200)\ttotal: 57.8s\tremaining: 15m 4s\n",
      "1600:\tlearn: 0.2444116\ttest: 0.2440473\tbest: 0.2440473 (1600)\ttotal: 1m 17s\tremaining: 14m 45s\n",
      "2000:\tlearn: 0.2418406\ttest: 0.2417718\tbest: 0.2417718 (2000)\ttotal: 1m 36s\tremaining: 14m 25s\n",
      "2400:\tlearn: 0.2397405\ttest: 0.2399656\tbest: 0.2399656 (2400)\ttotal: 1m 55s\tremaining: 14m 5s\n",
      "2800:\tlearn: 0.2381100\ttest: 0.2386455\tbest: 0.2386452 (2799)\ttotal: 2m 14s\tremaining: 13m 47s\n",
      "3200:\tlearn: 0.2362463\ttest: 0.2370550\tbest: 0.2370550 (3200)\ttotal: 2m 33s\tremaining: 13m 28s\n",
      "3600:\tlearn: 0.2352657\ttest: 0.2364395\tbest: 0.2364366 (3583)\ttotal: 2m 53s\tremaining: 13m 8s\n",
      "4000:\tlearn: 0.2344566\ttest: 0.2359779\tbest: 0.2359779 (4000)\ttotal: 3m 12s\tremaining: 12m 49s\n",
      "4400:\tlearn: 0.2337296\ttest: 0.2356274\tbest: 0.2356248 (4393)\ttotal: 3m 31s\tremaining: 12m 30s\n",
      "4800:\tlearn: 0.2330576\ttest: 0.2352979\tbest: 0.2352979 (4800)\ttotal: 3m 50s\tremaining: 12m 10s\n",
      "5200:\tlearn: 0.2324405\ttest: 0.2350378\tbest: 0.2350374 (5199)\ttotal: 4m 10s\tremaining: 11m 51s\n",
      "5600:\tlearn: 0.2318352\ttest: 0.2347647\tbest: 0.2347647 (5600)\ttotal: 4m 29s\tremaining: 11m 32s\n",
      "6000:\tlearn: 0.2313140\ttest: 0.2345641\tbest: 0.2345641 (6000)\ttotal: 4m 48s\tremaining: 11m 13s\n",
      "6400:\tlearn: 0.2307705\ttest: 0.2342876\tbest: 0.2342876 (6400)\ttotal: 5m 7s\tremaining: 10m 53s\n",
      "6800:\tlearn: 0.2302577\ttest: 0.2340250\tbest: 0.2340242 (6795)\ttotal: 5m 26s\tremaining: 10m 34s\n",
      "7200:\tlearn: 0.2297980\ttest: 0.2338477\tbest: 0.2338477 (7200)\ttotal: 5m 45s\tremaining: 10m 14s\n",
      "7600:\tlearn: 0.2293522\ttest: 0.2336514\tbest: 0.2336514 (7600)\ttotal: 6m 4s\tremaining: 9m 55s\n",
      "8000:\tlearn: 0.2289431\ttest: 0.2335212\tbest: 0.2335191 (7993)\ttotal: 6m 23s\tremaining: 9m 35s\n",
      "8400:\tlearn: 0.2285471\ttest: 0.2333783\tbest: 0.2333781 (8398)\ttotal: 6m 43s\tremaining: 9m 16s\n",
      "8800:\tlearn: 0.2281631\ttest: 0.2332329\tbest: 0.2332315 (8797)\ttotal: 7m 1s\tremaining: 8m 56s\n",
      "9200:\tlearn: 0.2277904\ttest: 0.2331292\tbest: 0.2331280 (9183)\ttotal: 7m 21s\tremaining: 8m 37s\n",
      "9600:\tlearn: 0.2274343\ttest: 0.2330111\tbest: 0.2330111 (9600)\ttotal: 7m 40s\tremaining: 8m 18s\n",
      "10000:\tlearn: 0.2271243\ttest: 0.2329586\tbest: 0.2329573 (9923)\ttotal: 8m 3s\tremaining: 8m 3s\n",
      "10400:\tlearn: 0.2267780\ttest: 0.2328896\tbest: 0.2328894 (10398)\ttotal: 8m 25s\tremaining: 7m 46s\n",
      "10800:\tlearn: 0.2264704\ttest: 0.2328356\tbest: 0.2328349 (10797)\ttotal: 8m 48s\tremaining: 7m 30s\n",
      "11200:\tlearn: 0.2261675\ttest: 0.2327848\tbest: 0.2327780 (11109)\ttotal: 9m 9s\tremaining: 7m 11s\n",
      "Stopped by overfitting detector  (100 iterations wait)\n",
      "\n",
      "bestTest = 0.2327572737\n",
      "bestIteration = 11320\n",
      "\n",
      "Shrink model to first 11321 iterations.\n",
      "roc_auc_score: 0.959575765195685\n",
      "--------------------------------------------------\n",
      "Fold: 1\n",
      "0:\tlearn: 0.6697028\ttest: 0.6696835\tbest: 0.6696835 (0)\ttotal: 52.9ms\tremaining: 17m 37s\n",
      "400:\tlearn: 0.2682532\ttest: 0.2703743\tbest: 0.2703743 (400)\ttotal: 20.8s\tremaining: 16m 57s\n",
      "800:\tlearn: 0.2536679\ttest: 0.2552552\tbest: 0.2552552 (800)\ttotal: 41.7s\tremaining: 16m 38s\n",
      "1200:\tlearn: 0.2478133\ttest: 0.2495044\tbest: 0.2495044 (1200)\ttotal: 1m 2s\tremaining: 16m 14s\n",
      "1600:\tlearn: 0.2437237\ttest: 0.2459927\tbest: 0.2459924 (1599)\ttotal: 1m 23s\tremaining: 15m 55s\n",
      "2000:\tlearn: 0.2408388\ttest: 0.2435983\tbest: 0.2435983 (2000)\ttotal: 1m 43s\tremaining: 15m 34s\n",
      "2400:\tlearn: 0.2388426\ttest: 0.2419851\tbest: 0.2419845 (2399)\ttotal: 2m 4s\tremaining: 15m 14s\n",
      "2800:\tlearn: 0.2372677\ttest: 0.2408003\tbest: 0.2408003 (2800)\ttotal: 2m 25s\tremaining: 14m 53s\n",
      "3200:\tlearn: 0.2360248\ttest: 0.2399616\tbest: 0.2399616 (3200)\ttotal: 2m 46s\tremaining: 14m 32s\n",
      "3600:\tlearn: 0.2349089\ttest: 0.2391726\tbest: 0.2391726 (3600)\ttotal: 3m 6s\tremaining: 14m 10s\n",
      "4000:\tlearn: 0.2340654\ttest: 0.2386812\tbest: 0.2386812 (4000)\ttotal: 3m 27s\tremaining: 13m 50s\n",
      "4400:\tlearn: 0.2332890\ttest: 0.2382481\tbest: 0.2382452 (4387)\ttotal: 3m 48s\tremaining: 13m 28s\n",
      "4800:\tlearn: 0.2326168\ttest: 0.2378849\tbest: 0.2378844 (4799)\ttotal: 4m 8s\tremaining: 13m 7s\n",
      "5200:\tlearn: 0.2320328\ttest: 0.2375953\tbest: 0.2375950 (5192)\ttotal: 4m 29s\tremaining: 12m 46s\n",
      "5600:\tlearn: 0.2314779\ttest: 0.2373655\tbest: 0.2373648 (5597)\ttotal: 4m 50s\tremaining: 12m 26s\n",
      "6000:\tlearn: 0.2309466\ttest: 0.2371287\tbest: 0.2371277 (5988)\ttotal: 5m 10s\tremaining: 12m 5s\n",
      "6400:\tlearn: 0.2304442\ttest: 0.2369125\tbest: 0.2369125 (6400)\ttotal: 5m 31s\tremaining: 11m 44s\n",
      "6800:\tlearn: 0.2299667\ttest: 0.2367417\tbest: 0.2367417 (6800)\ttotal: 5m 51s\tremaining: 11m 23s\n",
      "7200:\tlearn: 0.2295060\ttest: 0.2365572\tbest: 0.2365567 (7197)\ttotal: 6m 12s\tremaining: 11m 2s\n",
      "7600:\tlearn: 0.2290709\ttest: 0.2363887\tbest: 0.2363880 (7598)\ttotal: 6m 32s\tremaining: 10m 41s\n",
      "8000:\tlearn: 0.2286597\ttest: 0.2362536\tbest: 0.2362536 (8000)\ttotal: 6m 53s\tremaining: 10m 20s\n",
      "8400:\tlearn: 0.2282342\ttest: 0.2360921\tbest: 0.2360917 (8398)\ttotal: 7m 14s\tremaining: 9m 59s\n",
      "8800:\tlearn: 0.2278570\ttest: 0.2359734\tbest: 0.2359730 (8795)\ttotal: 7m 34s\tremaining: 9m 38s\n",
      "9200:\tlearn: 0.2274803\ttest: 0.2358846\tbest: 0.2358846 (9199)\ttotal: 7m 55s\tremaining: 9m 18s\n",
      "9600:\tlearn: 0.2271286\ttest: 0.2357732\tbest: 0.2357732 (9600)\ttotal: 8m 16s\tremaining: 8m 57s\n",
      "10000:\tlearn: 0.2267740\ttest: 0.2356834\tbest: 0.2356822 (9997)\ttotal: 8m 36s\tremaining: 8m 36s\n",
      "Stopped by overfitting detector  (100 iterations wait)\n",
      "\n",
      "bestTest = 0.2356395439\n",
      "bestIteration = 10216\n",
      "\n",
      "Shrink model to first 10217 iterations.\n",
      "roc_auc_score: 0.9587577902276359\n",
      "--------------------------------------------------\n",
      "Fold: 2\n",
      "0:\tlearn: 0.6697165\ttest: 0.6696054\tbest: 0.6696054 (0)\ttotal: 53.4ms\tremaining: 17m 48s\n",
      "400:\tlearn: 0.2685546\ttest: 0.2682231\tbest: 0.2682231 (400)\ttotal: 20.5s\tremaining: 16m 42s\n",
      "800:\tlearn: 0.2537179\ttest: 0.2537535\tbest: 0.2537535 (800)\ttotal: 42.4s\tremaining: 16m 56s\n",
      "1200:\tlearn: 0.2475473\ttest: 0.2480617\tbest: 0.2480617 (1200)\ttotal: 1m 3s\tremaining: 16m 29s\n",
      "1600:\tlearn: 0.2437809\ttest: 0.2446625\tbest: 0.2446625 (1600)\ttotal: 1m 23s\tremaining: 16m 2s\n",
      "2000:\tlearn: 0.2411141\ttest: 0.2422334\tbest: 0.2422334 (2000)\ttotal: 1m 44s\tremaining: 15m 38s\n",
      "2400:\tlearn: 0.2391096\ttest: 0.2404689\tbest: 0.2404689 (2400)\ttotal: 2m 5s\tremaining: 15m 20s\n",
      "2800:\tlearn: 0.2375018\ttest: 0.2391274\tbest: 0.2391274 (2800)\ttotal: 2m 25s\tremaining: 14m 55s\n",
      "3200:\tlearn: 0.2358854\ttest: 0.2377235\tbest: 0.2377235 (3200)\ttotal: 2m 46s\tremaining: 14m 32s\n",
      "3600:\tlearn: 0.2349628\ttest: 0.2370929\tbest: 0.2370929 (3600)\ttotal: 3m 6s\tremaining: 14m 9s\n",
      "4000:\tlearn: 0.2342772\ttest: 0.2367394\tbest: 0.2367363 (3996)\ttotal: 3m 26s\tremaining: 13m 46s\n",
      "4400:\tlearn: 0.2335671\ttest: 0.2363251\tbest: 0.2363245 (4399)\ttotal: 3m 47s\tremaining: 13m 24s\n",
      "4800:\tlearn: 0.2329288\ttest: 0.2359683\tbest: 0.2359683 (4800)\ttotal: 4m 7s\tremaining: 13m 3s\n",
      "5200:\tlearn: 0.2322420\ttest: 0.2355805\tbest: 0.2355805 (5199)\ttotal: 4m 27s\tremaining: 12m 42s\n",
      "5600:\tlearn: 0.2316551\ttest: 0.2352855\tbest: 0.2352851 (5599)\ttotal: 4m 48s\tremaining: 12m 20s\n",
      "6000:\tlearn: 0.2311421\ttest: 0.2350129\tbest: 0.2350117 (5997)\ttotal: 5m 7s\tremaining: 11m 58s\n",
      "6400:\tlearn: 0.2305903\ttest: 0.2346979\tbest: 0.2346979 (6400)\ttotal: 5m 27s\tremaining: 11m 36s\n",
      "6800:\tlearn: 0.2301316\ttest: 0.2345085\tbest: 0.2345079 (6798)\ttotal: 5m 47s\tremaining: 11m 15s\n",
      "7200:\tlearn: 0.2296802\ttest: 0.2342932\tbest: 0.2342932 (7200)\ttotal: 6m 8s\tremaining: 10m 54s\n",
      "7600:\tlearn: 0.2292429\ttest: 0.2341171\tbest: 0.2341171 (7600)\ttotal: 6m 28s\tremaining: 10m 33s\n",
      "8000:\tlearn: 0.2288376\ttest: 0.2339682\tbest: 0.2339679 (7998)\ttotal: 6m 49s\tremaining: 10m 14s\n",
      "8400:\tlearn: 0.2284614\ttest: 0.2338654\tbest: 0.2338651 (8399)\ttotal: 7m 11s\tremaining: 9m 55s\n",
      "8800:\tlearn: 0.2281055\ttest: 0.2337538\tbest: 0.2337538 (8800)\ttotal: 7m 32s\tremaining: 9m 36s\n",
      "9200:\tlearn: 0.2277475\ttest: 0.2336333\tbest: 0.2336333 (9200)\ttotal: 7m 53s\tremaining: 9m 16s\n",
      "9600:\tlearn: 0.2274032\ttest: 0.2335304\tbest: 0.2335304 (9600)\ttotal: 8m 15s\tremaining: 8m 56s\n",
      "10000:\tlearn: 0.2270789\ttest: 0.2334400\tbest: 0.2334398 (9996)\ttotal: 8m 36s\tremaining: 8m 36s\n",
      "10400:\tlearn: 0.2267300\ttest: 0.2333282\tbest: 0.2333268 (10372)\ttotal: 8m 58s\tremaining: 8m 16s\n"
     ]
    },
    {
     "name": "stdout",
     "output_type": "stream",
     "text": [
      "10800:\tlearn: 0.2264068\ttest: 0.2332222\tbest: 0.2332199 (10783)\ttotal: 9m 21s\tremaining: 7m 58s\n",
      "11200:\tlearn: 0.2261028\ttest: 0.2331380\tbest: 0.2331378 (11199)\ttotal: 9m 42s\tremaining: 7m 37s\n",
      "11600:\tlearn: 0.2258340\ttest: 0.2330862\tbest: 0.2330858 (11597)\ttotal: 10m 4s\tremaining: 7m 17s\n",
      "12000:\tlearn: 0.2255350\ttest: 0.2330233\tbest: 0.2330226 (11997)\ttotal: 10m 25s\tremaining: 6m 56s\n",
      "Stopped by overfitting detector  (100 iterations wait)\n",
      "\n",
      "bestTest = 0.232999114\n",
      "bestIteration = 12082\n",
      "\n",
      "Shrink model to first 12083 iterations.\n",
      "roc_auc_score: 0.9592758134514379\n",
      "--------------------------------------------------\n",
      "Fold: 3\n",
      "0:\tlearn: 0.6694776\ttest: 0.6694884\tbest: 0.6694884 (0)\ttotal: 50ms\tremaining: 16m 40s\n",
      "400:\tlearn: 0.2684638\ttest: 0.2696863\tbest: 0.2696863 (400)\ttotal: 21s\tremaining: 17m 8s\n",
      "800:\tlearn: 0.2539913\ttest: 0.2558047\tbest: 0.2558047 (800)\ttotal: 42.3s\tremaining: 16m 54s\n",
      "1200:\tlearn: 0.2473099\ttest: 0.2495157\tbest: 0.2495157 (1200)\ttotal: 1m 3s\tremaining: 16m 34s\n",
      "1600:\tlearn: 0.2437672\ttest: 0.2462907\tbest: 0.2462907 (1600)\ttotal: 1m 25s\tremaining: 16m 17s\n",
      "2000:\tlearn: 0.2413225\ttest: 0.2442638\tbest: 0.2442638 (2000)\ttotal: 1m 46s\tremaining: 15m 57s\n",
      "2400:\tlearn: 0.2389113\ttest: 0.2423157\tbest: 0.2423155 (2399)\ttotal: 2m 8s\tremaining: 15m 40s\n",
      "2800:\tlearn: 0.2370490\ttest: 0.2409477\tbest: 0.2409477 (2800)\ttotal: 2m 29s\tremaining: 15m 18s\n",
      "3200:\tlearn: 0.2360759\ttest: 0.2403798\tbest: 0.2403796 (3197)\ttotal: 2m 50s\tremaining: 14m 55s\n",
      "3600:\tlearn: 0.2352414\ttest: 0.2399178\tbest: 0.2399174 (3599)\ttotal: 3m 12s\tremaining: 14m 35s\n",
      "4000:\tlearn: 0.2343418\ttest: 0.2393553\tbest: 0.2393521 (3996)\ttotal: 3m 34s\tremaining: 14m 16s\n",
      "4400:\tlearn: 0.2335261\ttest: 0.2388675\tbest: 0.2388659 (4395)\ttotal: 3m 55s\tremaining: 13m 53s\n",
      "4800:\tlearn: 0.2327497\ttest: 0.2384410\tbest: 0.2384406 (4798)\ttotal: 4m 16s\tremaining: 13m 30s\n",
      "5200:\tlearn: 0.2320684\ttest: 0.2380792\tbest: 0.2380786 (5198)\ttotal: 4m 36s\tremaining: 13m 8s\n",
      "5600:\tlearn: 0.2314405\ttest: 0.2377766\tbest: 0.2377766 (5600)\ttotal: 4m 57s\tremaining: 12m 45s\n",
      "6000:\tlearn: 0.2308677\ttest: 0.2375271\tbest: 0.2375262 (5992)\ttotal: 5m 19s\tremaining: 12m 24s\n",
      "6400:\tlearn: 0.2303119\ttest: 0.2372779\tbest: 0.2372747 (6392)\ttotal: 5m 40s\tremaining: 12m 2s\n",
      "6800:\tlearn: 0.2298261\ttest: 0.2370975\tbest: 0.2370960 (6799)\ttotal: 6m 2s\tremaining: 11m 42s\n",
      "7200:\tlearn: 0.2293577\ttest: 0.2369133\tbest: 0.2369118 (7193)\ttotal: 6m 25s\tremaining: 11m 25s\n",
      "7600:\tlearn: 0.2289505\ttest: 0.2368089\tbest: 0.2368089 (7600)\ttotal: 6m 50s\tremaining: 11m 10s\n",
      "8000:\tlearn: 0.2285244\ttest: 0.2366632\tbest: 0.2366611 (7990)\ttotal: 7m 14s\tremaining: 10m 51s\n",
      "8400:\tlearn: 0.2281361\ttest: 0.2365605\tbest: 0.2365582 (8398)\ttotal: 7m 36s\tremaining: 10m 30s\n",
      "8800:\tlearn: 0.2277708\ttest: 0.2364585\tbest: 0.2364585 (8800)\ttotal: 7m 58s\tremaining: 10m 9s\n",
      "9200:\tlearn: 0.2274049\ttest: 0.2363686\tbest: 0.2363684 (9197)\ttotal: 8m 21s\tremaining: 9m 48s\n",
      "9600:\tlearn: 0.2270389\ttest: 0.2362602\tbest: 0.2362588 (9594)\ttotal: 8m 41s\tremaining: 9m 25s\n",
      "Stopped by overfitting detector  (100 iterations wait)\n",
      "\n",
      "bestTest = 0.2362405252\n",
      "bestIteration = 9691\n",
      "\n",
      "Shrink model to first 9692 iterations.\n",
      "roc_auc_score: 0.9588561583626061\n",
      "--------------------------------------------------\n",
      "Fold: 4\n",
      "0:\tlearn: 0.6697054\ttest: 0.6697723\tbest: 0.6697723 (0)\ttotal: 49.5ms\tremaining: 16m 28s\n",
      "400:\tlearn: 0.2689565\ttest: 0.2708620\tbest: 0.2708620 (400)\ttotal: 20.8s\tremaining: 16m 54s\n",
      "800:\tlearn: 0.2543915\ttest: 0.2559235\tbest: 0.2559235 (800)\ttotal: 42.6s\tremaining: 17m 1s\n",
      "1200:\tlearn: 0.2480066\ttest: 0.2495340\tbest: 0.2495340 (1200)\ttotal: 1m 4s\tremaining: 16m 50s\n",
      "1600:\tlearn: 0.2438763\ttest: 0.2454959\tbest: 0.2454959 (1600)\ttotal: 1m 27s\tremaining: 16m 44s\n",
      "2000:\tlearn: 0.2412725\ttest: 0.2432145\tbest: 0.2432130 (1999)\ttotal: 1m 49s\tremaining: 16m 21s\n",
      "2400:\tlearn: 0.2391736\ttest: 0.2414455\tbest: 0.2414455 (2400)\ttotal: 2m 10s\tremaining: 15m 56s\n",
      "2800:\tlearn: 0.2374672\ttest: 0.2400603\tbest: 0.2400603 (2800)\ttotal: 2m 32s\tremaining: 15m 39s\n",
      "3200:\tlearn: 0.2359967\ttest: 0.2387853\tbest: 0.2387853 (3200)\ttotal: 2m 54s\tremaining: 15m 16s\n",
      "3600:\tlearn: 0.2349473\ttest: 0.2380392\tbest: 0.2380392 (3600)\ttotal: 3m 15s\tremaining: 14m 52s\n",
      "4000:\tlearn: 0.2340951\ttest: 0.2374447\tbest: 0.2374443 (3999)\ttotal: 3m 37s\tremaining: 14m 31s\n",
      "4400:\tlearn: 0.2333286\ttest: 0.2369585\tbest: 0.2369585 (4400)\ttotal: 3m 58s\tremaining: 14m 6s\n",
      "4800:\tlearn: 0.2326660\ttest: 0.2366059\tbest: 0.2366039 (4795)\ttotal: 4m 19s\tremaining: 13m 42s\n",
      "5200:\tlearn: 0.2320241\ttest: 0.2362710\tbest: 0.2362710 (5200)\ttotal: 4m 41s\tremaining: 13m 19s\n",
      "5600:\tlearn: 0.2315009\ttest: 0.2360864\tbest: 0.2360861 (5597)\ttotal: 5m 2s\tremaining: 12m 58s\n",
      "6000:\tlearn: 0.2309585\ttest: 0.2358518\tbest: 0.2358501 (5988)\ttotal: 5m 24s\tremaining: 12m 37s\n",
      "6400:\tlearn: 0.2304240\ttest: 0.2356090\tbest: 0.2356090 (6400)\ttotal: 5m 46s\tremaining: 12m 16s\n",
      "6800:\tlearn: 0.2299343\ttest: 0.2353962\tbest: 0.2353932 (6787)\ttotal: 6m 7s\tremaining: 11m 54s\n",
      "7200:\tlearn: 0.2294846\ttest: 0.2352902\tbest: 0.2352886 (7193)\ttotal: 6m 33s\tremaining: 11m 39s\n",
      "7600:\tlearn: 0.2290727\ttest: 0.2351741\tbest: 0.2351733 (7587)\ttotal: 6m 54s\tremaining: 11m 16s\n",
      "8000:\tlearn: 0.2286274\ttest: 0.2349932\tbest: 0.2349905 (7991)\ttotal: 7m 17s\tremaining: 10m 55s\n",
      "8400:\tlearn: 0.2282636\ttest: 0.2348827\tbest: 0.2348827 (8400)\ttotal: 7m 38s\tremaining: 10m 32s\n",
      "8800:\tlearn: 0.2279017\ttest: 0.2347949\tbest: 0.2347949 (8800)\ttotal: 7m 59s\tremaining: 10m 9s\n",
      "9200:\tlearn: 0.2275516\ttest: 0.2346847\tbest: 0.2346812 (9178)\ttotal: 8m 20s\tremaining: 9m 47s\n",
      "9600:\tlearn: 0.2272104\ttest: 0.2346068\tbest: 0.2346056 (9594)\ttotal: 8m 44s\tremaining: 9m 28s\n",
      "10000:\tlearn: 0.2268651\ttest: 0.2345004\tbest: 0.2345000 (9998)\ttotal: 9m 7s\tremaining: 9m 7s\n",
      "Stopped by overfitting detector  (100 iterations wait)\n",
      "\n",
      "bestTest = 0.2344378116\n",
      "bestIteration = 10230\n",
      "\n",
      "Shrink model to first 10231 iterations.\n",
      "roc_auc_score: 0.9597009233820623\n",
      "--------------------------------------------------\n",
      "Fold: 5\n",
      "0:\tlearn: 0.6696871\ttest: 0.6698418\tbest: 0.6698418 (0)\ttotal: 57.9ms\tremaining: 19m 18s\n",
      "400:\tlearn: 0.2685296\ttest: 0.2708130\tbest: 0.2708130 (400)\ttotal: 21.8s\tremaining: 17m 46s\n",
      "800:\tlearn: 0.2545086\ttest: 0.2567318\tbest: 0.2567318 (800)\ttotal: 43.4s\tremaining: 17m 21s\n",
      "1200:\tlearn: 0.2474479\ttest: 0.2498435\tbest: 0.2498413 (1199)\ttotal: 1m 5s\tremaining: 17m 4s\n",
      "1600:\tlearn: 0.2441115\ttest: 0.2466674\tbest: 0.2466674 (1600)\ttotal: 1m 29s\tremaining: 17m 3s\n",
      "2000:\tlearn: 0.2411077\ttest: 0.2438443\tbest: 0.2438443 (2000)\ttotal: 1m 51s\tremaining: 16m 43s\n",
      "2400:\tlearn: 0.2390895\ttest: 0.2420615\tbest: 0.2420615 (2400)\ttotal: 2m 13s\tremaining: 16m 19s\n",
      "2800:\tlearn: 0.2373707\ttest: 0.2406720\tbest: 0.2406720 (2800)\ttotal: 2m 35s\tremaining: 15m 53s\n",
      "3200:\tlearn: 0.2362700\ttest: 0.2398522\tbest: 0.2398522 (3200)\ttotal: 2m 57s\tremaining: 15m 29s\n",
      "3600:\tlearn: 0.2352254\ttest: 0.2390934\tbest: 0.2390921 (3595)\ttotal: 3m 18s\tremaining: 15m 5s\n",
      "4000:\tlearn: 0.2342868\ttest: 0.2383955\tbest: 0.2383948 (3999)\ttotal: 3m 40s\tremaining: 14m 42s\n",
      "4400:\tlearn: 0.2336134\ttest: 0.2379874\tbest: 0.2379870 (4395)\ttotal: 4m 2s\tremaining: 14m 19s\n",
      "4800:\tlearn: 0.2329477\ttest: 0.2375608\tbest: 0.2375604 (4797)\ttotal: 4m 24s\tremaining: 13m 57s\n",
      "5200:\tlearn: 0.2323020\ttest: 0.2371564\tbest: 0.2371564 (5200)\ttotal: 4m 47s\tremaining: 13m 37s\n",
      "5600:\tlearn: 0.2317559\ttest: 0.2368470\tbest: 0.2368470 (5600)\ttotal: 5m 8s\tremaining: 13m 13s\n",
      "6000:\tlearn: 0.2311799\ttest: 0.2364975\tbest: 0.2364967 (5998)\ttotal: 5m 30s\tremaining: 12m 51s\n",
      "6400:\tlearn: 0.2306492\ttest: 0.2362127\tbest: 0.2362086 (6391)\ttotal: 5m 52s\tremaining: 12m 28s\n",
      "6800:\tlearn: 0.2302009\ttest: 0.2360307\tbest: 0.2360257 (6764)\ttotal: 6m 14s\tremaining: 12m 6s\n",
      "7200:\tlearn: 0.2297258\ttest: 0.2358098\tbest: 0.2358059 (7191)\ttotal: 6m 36s\tremaining: 11m 44s\n",
      "7600:\tlearn: 0.2292890\ttest: 0.2356580\tbest: 0.2356562 (7593)\ttotal: 6m 57s\tremaining: 11m 21s\n",
      "8000:\tlearn: 0.2289069\ttest: 0.2355088\tbest: 0.2355061 (7988)\ttotal: 7m 19s\tremaining: 10m 59s\n",
      "8400:\tlearn: 0.2285149\ttest: 0.2353679\tbest: 0.2353665 (8397)\ttotal: 7m 41s\tremaining: 10m 36s\n",
      "8800:\tlearn: 0.2281237\ttest: 0.2352119\tbest: 0.2352116 (8799)\ttotal: 8m 4s\tremaining: 10m 16s\n",
      "9200:\tlearn: 0.2277683\ttest: 0.2351054\tbest: 0.2351035 (9195)\ttotal: 8m 27s\tremaining: 9m 55s\n",
      "9600:\tlearn: 0.2274136\ttest: 0.2349967\tbest: 0.2349965 (9599)\ttotal: 8m 50s\tremaining: 9m 34s\n"
     ]
    },
    {
     "name": "stdout",
     "output_type": "stream",
     "text": [
      "10000:\tlearn: 0.2270822\ttest: 0.2349050\tbest: 0.2349049 (9942)\ttotal: 9m 12s\tremaining: 9m 11s\n",
      "10400:\tlearn: 0.2267655\ttest: 0.2348157\tbest: 0.2348147 (10352)\ttotal: 9m 33s\tremaining: 8m 49s\n",
      "10800:\tlearn: 0.2264269\ttest: 0.2347373\tbest: 0.2347345 (10796)\ttotal: 9m 55s\tremaining: 8m 27s\n",
      "11200:\tlearn: 0.2261255\ttest: 0.2346669\tbest: 0.2346638 (11195)\ttotal: 10m 17s\tremaining: 8m 5s\n",
      "11600:\tlearn: 0.2258212\ttest: 0.2345903\tbest: 0.2345900 (11597)\ttotal: 10m 39s\tremaining: 7m 42s\n",
      "Stopped by overfitting detector  (100 iterations wait)\n",
      "\n",
      "bestTest = 0.2345700564\n",
      "bestIteration = 11739\n",
      "\n",
      "Shrink model to first 11740 iterations.\n",
      "roc_auc_score: 0.9592505231356971\n",
      "--------------------------------------------------\n",
      "Fold: 6\n",
      "0:\tlearn: 0.6697516\ttest: 0.6697266\tbest: 0.6697266 (0)\ttotal: 53.3ms\tremaining: 17m 45s\n",
      "400:\tlearn: 0.2692472\ttest: 0.2638880\tbest: 0.2638880 (400)\ttotal: 21.4s\tremaining: 17m 25s\n",
      "800:\tlearn: 0.2547454\ttest: 0.2501606\tbest: 0.2501606 (800)\ttotal: 42.6s\tremaining: 17m 1s\n",
      "1200:\tlearn: 0.2484975\ttest: 0.2440313\tbest: 0.2440313 (1200)\ttotal: 1m 5s\tremaining: 17m 8s\n",
      "1600:\tlearn: 0.2445962\ttest: 0.2402476\tbest: 0.2402476 (1600)\ttotal: 1m 27s\tremaining: 16m 49s\n",
      "2000:\tlearn: 0.2421683\ttest: 0.2381423\tbest: 0.2381423 (2000)\ttotal: 1m 50s\tremaining: 16m 30s\n",
      "2400:\tlearn: 0.2400207\ttest: 0.2362979\tbest: 0.2362979 (2400)\ttotal: 2m 10s\tremaining: 16m\n",
      "2800:\tlearn: 0.2379030\ttest: 0.2344769\tbest: 0.2344762 (2799)\ttotal: 2m 32s\tremaining: 15m 35s\n",
      "3200:\tlearn: 0.2365564\ttest: 0.2334548\tbest: 0.2334548 (3200)\ttotal: 2m 53s\tremaining: 15m 11s\n",
      "3600:\tlearn: 0.2354032\ttest: 0.2326818\tbest: 0.2326807 (3592)\ttotal: 3m 16s\tremaining: 14m 54s\n",
      "4000:\tlearn: 0.2346799\ttest: 0.2323056\tbest: 0.2323056 (4000)\ttotal: 3m 38s\tremaining: 14m 32s\n",
      "4400:\tlearn: 0.2339900\ttest: 0.2319584\tbest: 0.2319548 (4388)\ttotal: 4m\tremaining: 14m 11s\n",
      "4800:\tlearn: 0.2333668\ttest: 0.2316641\tbest: 0.2316641 (4800)\ttotal: 4m 22s\tremaining: 13m 51s\n",
      "5200:\tlearn: 0.2327953\ttest: 0.2314118\tbest: 0.2314118 (5200)\ttotal: 4m 45s\tremaining: 13m 31s\n",
      "5600:\tlearn: 0.2322708\ttest: 0.2311825\tbest: 0.2311825 (5600)\ttotal: 5m 7s\tremaining: 13m 9s\n",
      "6000:\tlearn: 0.2317384\ttest: 0.2309260\tbest: 0.2309230 (5995)\ttotal: 5m 28s\tremaining: 12m 46s\n",
      "6400:\tlearn: 0.2311871\ttest: 0.2306657\tbest: 0.2306651 (6389)\ttotal: 5m 51s\tremaining: 12m 26s\n",
      "6800:\tlearn: 0.2307129\ttest: 0.2304577\tbest: 0.2304577 (6800)\ttotal: 6m 13s\tremaining: 12m 5s\n",
      "7200:\tlearn: 0.2302791\ttest: 0.2302841\tbest: 0.2302841 (7200)\ttotal: 6m 36s\tremaining: 11m 45s\n",
      "7600:\tlearn: 0.2298376\ttest: 0.2300857\tbest: 0.2300855 (7596)\ttotal: 6m 58s\tremaining: 11m 23s\n",
      "8000:\tlearn: 0.2294187\ttest: 0.2299305\tbest: 0.2299305 (8000)\ttotal: 7m 20s\tremaining: 11m\n",
      "8400:\tlearn: 0.2290265\ttest: 0.2297990\tbest: 0.2297990 (8400)\ttotal: 7m 42s\tremaining: 10m 38s\n",
      "8800:\tlearn: 0.2286442\ttest: 0.2296672\tbest: 0.2296672 (8800)\ttotal: 8m 6s\tremaining: 10m 19s\n",
      "9200:\tlearn: 0.2282805\ttest: 0.2295890\tbest: 0.2295847 (9172)\ttotal: 8m 31s\tremaining: 10m\n",
      "9600:\tlearn: 0.2279581\ttest: 0.2295283\tbest: 0.2295262 (9576)\ttotal: 8m 53s\tremaining: 9m 37s\n",
      "10000:\tlearn: 0.2276159\ttest: 0.2294290\tbest: 0.2294235 (9983)\ttotal: 9m 15s\tremaining: 9m 15s\n",
      "10400:\tlearn: 0.2272769\ttest: 0.2293344\tbest: 0.2293331 (10398)\ttotal: 9m 37s\tremaining: 8m 53s\n",
      "10800:\tlearn: 0.2269581\ttest: 0.2292519\tbest: 0.2292514 (10799)\ttotal: 10m\tremaining: 8m 31s\n",
      "11200:\tlearn: 0.2266602\ttest: 0.2292149\tbest: 0.2292039 (11139)\ttotal: 10m 22s\tremaining: 8m 9s\n",
      "Stopped by overfitting detector  (100 iterations wait)\n",
      "\n",
      "bestTest = 0.2292038573\n",
      "bestIteration = 11139\n",
      "\n",
      "Shrink model to first 11140 iterations.\n",
      "roc_auc_score: 0.9608302894730728\n",
      "--------------------------------------------------\n",
      "Fold: 7\n",
      "0:\tlearn: 0.6694895\ttest: 0.6694999\tbest: 0.6694999 (0)\ttotal: 75.6ms\tremaining: 25m 11s\n",
      "400:\tlearn: 0.2682740\ttest: 0.2683214\tbest: 0.2683214 (400)\ttotal: 22.5s\tremaining: 18m 21s\n",
      "800:\tlearn: 0.2540163\ttest: 0.2546019\tbest: 0.2546019 (800)\ttotal: 44.3s\tremaining: 17m 41s\n",
      "1200:\tlearn: 0.2477665\ttest: 0.2487669\tbest: 0.2487669 (1200)\ttotal: 1m 8s\tremaining: 17m 58s\n",
      "1600:\tlearn: 0.2436309\ttest: 0.2449519\tbest: 0.2449519 (1600)\ttotal: 1m 32s\tremaining: 17m 44s\n",
      "2000:\tlearn: 0.2409302\ttest: 0.2425825\tbest: 0.2425825 (2000)\ttotal: 1m 54s\tremaining: 17m 13s\n",
      "2400:\tlearn: 0.2389016\ttest: 0.2408840\tbest: 0.2408840 (2395)\ttotal: 2m 14s\tremaining: 16m 26s\n",
      "2800:\tlearn: 0.2376113\ttest: 0.2399467\tbest: 0.2399454 (2797)\ttotal: 2m 34s\tremaining: 15m 47s\n",
      "3200:\tlearn: 0.2363744\ttest: 0.2390824\tbest: 0.2390824 (3200)\ttotal: 2m 53s\tremaining: 15m 10s\n",
      "3600:\tlearn: 0.2352249\ttest: 0.2382472\tbest: 0.2382472 (3600)\ttotal: 3m 13s\tremaining: 14m 40s\n",
      "4000:\tlearn: 0.2341028\ttest: 0.2374822\tbest: 0.2374818 (3999)\ttotal: 3m 32s\tremaining: 14m 10s\n",
      "4400:\tlearn: 0.2333319\ttest: 0.2370559\tbest: 0.2370559 (4400)\ttotal: 3m 52s\tremaining: 13m 43s\n",
      "4800:\tlearn: 0.2326681\ttest: 0.2367411\tbest: 0.2367411 (4800)\ttotal: 4m 11s\tremaining: 13m 17s\n",
      "5200:\tlearn: 0.2320075\ttest: 0.2364167\tbest: 0.2364167 (5200)\ttotal: 4m 31s\tremaining: 12m 52s\n",
      "5600:\tlearn: 0.2314412\ttest: 0.2361490\tbest: 0.2361477 (5596)\ttotal: 4m 50s\tremaining: 12m 27s\n",
      "6000:\tlearn: 0.2309124\ttest: 0.2359223\tbest: 0.2359223 (6000)\ttotal: 5m 10s\tremaining: 12m 4s\n",
      "6400:\tlearn: 0.2303917\ttest: 0.2356784\tbest: 0.2356784 (6400)\ttotal: 5m 29s\tremaining: 11m 40s\n",
      "6800:\tlearn: 0.2298915\ttest: 0.2354281\tbest: 0.2354277 (6799)\ttotal: 5m 49s\tremaining: 11m 18s\n",
      "7200:\tlearn: 0.2294367\ttest: 0.2352650\tbest: 0.2352637 (7185)\ttotal: 6m 9s\tremaining: 10m 56s\n",
      "7600:\tlearn: 0.2289908\ttest: 0.2350858\tbest: 0.2350843 (7597)\ttotal: 6m 28s\tremaining: 10m 33s\n",
      "8000:\tlearn: 0.2285938\ttest: 0.2349667\tbest: 0.2349659 (7997)\ttotal: 6m 47s\tremaining: 10m 11s\n",
      "8400:\tlearn: 0.2281737\ttest: 0.2348182\tbest: 0.2348182 (8400)\ttotal: 7m 6s\tremaining: 9m 49s\n",
      "8800:\tlearn: 0.2278275\ttest: 0.2347712\tbest: 0.2347658 (8751)\ttotal: 7m 26s\tremaining: 9m 27s\n",
      "Stopped by overfitting detector  (100 iterations wait)\n",
      "\n",
      "bestTest = 0.2347658035\n",
      "bestIteration = 8751\n",
      "\n",
      "Shrink model to first 8752 iterations.\n",
      "roc_auc_score: 0.9590491208710711\n",
      "--------------------------------------------------\n",
      "Fold: 8\n",
      "0:\tlearn: 0.6697218\ttest: 0.6697567\tbest: 0.6697567 (0)\ttotal: 42.5ms\tremaining: 14m 9s\n",
      "400:\tlearn: 0.2684342\ttest: 0.2699221\tbest: 0.2699221 (400)\ttotal: 19.4s\tremaining: 15m 47s\n",
      "800:\tlearn: 0.2540786\ttest: 0.2563994\tbest: 0.2563994 (800)\ttotal: 38.7s\tremaining: 15m 27s\n",
      "1200:\tlearn: 0.2477388\ttest: 0.2508474\tbest: 0.2508474 (1200)\ttotal: 58.1s\tremaining: 15m 8s\n",
      "1600:\tlearn: 0.2439293\ttest: 0.2475185\tbest: 0.2475185 (1600)\ttotal: 1m 17s\tremaining: 14m 51s\n",
      "2000:\tlearn: 0.2410922\ttest: 0.2450808\tbest: 0.2450808 (2000)\ttotal: 1m 37s\tremaining: 14m 32s\n",
      "2400:\tlearn: 0.2388727\ttest: 0.2432969\tbest: 0.2432969 (2400)\ttotal: 1m 56s\tremaining: 14m 15s\n",
      "2800:\tlearn: 0.2372855\ttest: 0.2421156\tbest: 0.2421155 (2795)\ttotal: 2m 16s\tremaining: 13m 55s\n",
      "3200:\tlearn: 0.2361589\ttest: 0.2413470\tbest: 0.2413452 (3195)\ttotal: 2m 35s\tremaining: 13m 35s\n",
      "3600:\tlearn: 0.2350494\ttest: 0.2405305\tbest: 0.2405299 (3599)\ttotal: 2m 55s\tremaining: 13m 16s\n",
      "4000:\tlearn: 0.2339241\ttest: 0.2396795\tbest: 0.2396773 (3998)\ttotal: 3m 14s\tremaining: 12m 57s\n",
      "4400:\tlearn: 0.2331454\ttest: 0.2392105\tbest: 0.2392077 (4392)\ttotal: 3m 33s\tremaining: 12m 37s\n",
      "4800:\tlearn: 0.2325207\ttest: 0.2388895\tbest: 0.2388894 (4797)\ttotal: 3m 52s\tremaining: 12m 16s\n",
      "5200:\tlearn: 0.2319117\ttest: 0.2385747\tbest: 0.2385747 (5200)\ttotal: 4m 12s\tremaining: 11m 57s\n",
      "5600:\tlearn: 0.2313666\ttest: 0.2383763\tbest: 0.2383743 (5595)\ttotal: 4m 31s\tremaining: 11m 37s\n",
      "6000:\tlearn: 0.2308506\ttest: 0.2381430\tbest: 0.2381411 (5997)\ttotal: 4m 50s\tremaining: 11m 18s\n",
      "6400:\tlearn: 0.2303683\ttest: 0.2379469\tbest: 0.2379465 (6388)\ttotal: 5m 10s\tremaining: 10m 58s\n",
      "6800:\tlearn: 0.2298726\ttest: 0.2377650\tbest: 0.2377650 (6800)\ttotal: 5m 29s\tremaining: 10m 39s\n",
      "7200:\tlearn: 0.2293494\ttest: 0.2375250\tbest: 0.2375235 (7197)\ttotal: 5m 48s\tremaining: 10m 19s\n",
      "7600:\tlearn: 0.2289240\ttest: 0.2373928\tbest: 0.2373899 (7582)\ttotal: 6m 8s\tremaining: 10m\n",
      "8000:\tlearn: 0.2285086\ttest: 0.2372536\tbest: 0.2372526 (7997)\ttotal: 6m 27s\tremaining: 9m 40s\n",
      "8400:\tlearn: 0.2280830\ttest: 0.2370757\tbest: 0.2370757 (8400)\ttotal: 6m 46s\tremaining: 9m 21s\n",
      "8800:\tlearn: 0.2276786\ttest: 0.2369315\tbest: 0.2369305 (8788)\ttotal: 7m 5s\tremaining: 9m 1s\n"
     ]
    },
    {
     "name": "stdout",
     "output_type": "stream",
     "text": [
      "9200:\tlearn: 0.2273182\ttest: 0.2368268\tbest: 0.2368235 (9193)\ttotal: 7m 25s\tremaining: 8m 43s\n",
      "9600:\tlearn: 0.2269670\ttest: 0.2367226\tbest: 0.2367221 (9599)\ttotal: 7m 44s\tremaining: 8m 23s\n",
      "10000:\tlearn: 0.2266236\ttest: 0.2366391\tbest: 0.2366386 (9999)\ttotal: 8m 4s\tremaining: 8m 4s\n",
      "10400:\tlearn: 0.2262726\ttest: 0.2365310\tbest: 0.2365288 (10397)\ttotal: 8m 24s\tremaining: 7m 45s\n",
      "10800:\tlearn: 0.2259408\ttest: 0.2364353\tbest: 0.2364290 (10765)\ttotal: 8m 43s\tremaining: 7m 26s\n",
      "11200:\tlearn: 0.2256446\ttest: 0.2363780\tbest: 0.2363769 (11194)\ttotal: 9m 3s\tremaining: 7m 7s\n",
      "11600:\tlearn: 0.2253397\ttest: 0.2363163\tbest: 0.2363155 (11592)\ttotal: 9m 24s\tremaining: 6m 48s\n",
      "12000:\tlearn: 0.2250540\ttest: 0.2362919\tbest: 0.2362895 (11974)\ttotal: 9m 44s\tremaining: 6m 29s\n",
      "Stopped by overfitting detector  (100 iterations wait)\n",
      "\n",
      "bestTest = 0.2362603272\n",
      "bestIteration = 12172\n",
      "\n",
      "Shrink model to first 12173 iterations.\n",
      "roc_auc_score: 0.9579216885784303\n",
      "--------------------------------------------------\n"
     ]
    }
   ],
   "source": [
    "from catboost import CatBoostClassifier\n",
    "cat_model = cross_val(X, y, CatBoostClassifier, cat_params)"
   ]
  },
  {
   "cell_type": "markdown",
   "metadata": {},
   "source": [
    "#### Ensembling all the models"
   ]
  },
  {
   "cell_type": "code",
   "execution_count": 125,
   "metadata": {
    "ExecuteTime": {
     "end_time": "2021-05-30T16:17:34.368234Z",
     "start_time": "2021-05-30T16:17:24.963277Z"
    }
   },
   "outputs": [],
   "source": [
    "pred_test_lgb = lgb_model.predict_proba(test.drop('ID', axis=1))[:,1]\n",
    "pred_test_xgb = xgb_model.predict_proba(test.drop('ID', axis=1))[:,1]\n",
    "pred_test_cat = cat_model.predict_proba(test.drop('ID', axis=1))[:,1]\n",
    "prediction = (pred_test_lgb + pred_test_cat+pred_test_xgb)/3"
   ]
  },
  {
   "cell_type": "code",
   "execution_count": 126,
   "metadata": {
    "ExecuteTime": {
     "end_time": "2021-05-30T16:17:34.493939Z",
     "start_time": "2021-05-30T16:17:34.462980Z"
    }
   },
   "outputs": [],
   "source": [
    "submission = pd.DataFrame(columns=['ID', 'Is_Lead'])\n",
    "submission['ID'] = test['ID']\n",
    "submission['Is_Lead'] = prediction"
   ]
  },
  {
   "cell_type": "code",
   "execution_count": 127,
   "metadata": {
    "ExecuteTime": {
     "end_time": "2021-05-30T16:17:35.586587Z",
     "start_time": "2021-05-30T16:17:35.337215Z"
    }
   },
   "outputs": [],
   "source": [
    "submission.to_csv(\"tenth.csv\", index=False)"
   ]
  }
 ],
 "metadata": {
  "kernelspec": {
   "display_name": "Python 3.8.3 64-bit",
   "language": "python",
   "name": "python38364bitd8216d72daf74e4d891b33f54e57b57c"
  },
  "varInspector": {
   "cols": {
    "lenName": 16,
    "lenType": 16,
    "lenVar": 40
   },
   "kernels_config": {
    "python": {
     "delete_cmd_postfix": "",
     "delete_cmd_prefix": "del ",
     "library": "var_list.py",
     "varRefreshCmd": "print(var_dic_list())"
    },
    "r": {
     "delete_cmd_postfix": ") ",
     "delete_cmd_prefix": "rm(",
     "library": "var_list.r",
     "varRefreshCmd": "cat(var_dic_list()) "
    }
   },
   "types_to_exclude": [
    "module",
    "function",
    "builtin_function_or_method",
    "instance",
    "_Feature"
   ],
   "window_display": false
  }
 },
 "nbformat": 4,
 "nbformat_minor": 4
}
